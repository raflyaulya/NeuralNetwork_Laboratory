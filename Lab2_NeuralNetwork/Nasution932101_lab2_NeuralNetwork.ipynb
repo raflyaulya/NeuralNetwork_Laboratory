{
  "nbformat": 4,
  "nbformat_minor": 0,
  "metadata": {
    "colab": {
      "provenance": [],
      "toc_visible": true
    },
    "kernelspec": {
      "name": "python3",
      "display_name": "Python 3"
    },
    "language_info": {
      "name": "python"
    }
  },
  "cells": [
    {
      "cell_type": "markdown",
      "source": [
        "# Задание 2. Анализ временных последовательностей нейронными сетями."
      ],
      "metadata": {
        "id": "guYkv6ITq2n1"
      }
    },
    {
      "cell_type": "markdown",
      "source": [
        "**Цель работы** – получить навыки создания нейронных сетей для анализа сигналов с помощью моделей рекуррентных сетей и ячеек LSTM (GRU).\n",
        "\n",
        "**Задачи** – Построить три нейросетевые модели:\n",
        "1. Регрессор встречного распространения\n",
        "2. Регрессор, ячейку LSTM (или GRU) в скрытом слое\n",
        "3. Регрессор, содержащий две последовательные ячейки LSTM (или GRU)\n"
      ],
      "metadata": {
        "id": "IiqSGEC7yhxn"
      }
    },
    {
      "cell_type": "markdown",
      "source": [
        "## Import Libraries"
      ],
      "metadata": {
        "id": "l1HdUwlIHz73"
      }
    },
    {
      "cell_type": "code",
      "execution_count": null,
      "metadata": {
        "id": "iaCeuJFEHUSe"
      },
      "outputs": [],
      "source": [
        "import numpy as np\n",
        "import pandas as pd\n",
        "import matplotlib.pyplot as plt\n",
        "import tensorflow as tf\n",
        "from tensorflow.keras.layers import Dropout\n",
        "from sklearn.preprocessing import MinMaxScaler\n",
        "from keras.callbacks import ModelCheckpoint, EarlyStopping\n",
        "from sklearn.metrics import mean_squared_error, mean_absolute_error, r2_score"
      ]
    },
    {
      "cell_type": "code",
      "source": [
        "from google.colab import drive\n",
        "drive.mount('/content/gdrive')"
      ],
      "metadata": {
        "colab": {
          "base_uri": "https://localhost:8080/"
        },
        "id": "aSv9gFeJIWFL",
        "outputId": "7faa0b51-cd52-4ff2-9bf8-d47943209c1d"
      },
      "execution_count": null,
      "outputs": [
        {
          "output_type": "stream",
          "name": "stdout",
          "text": [
            "Mounted at /content/gdrive\n"
          ]
        }
      ]
    },
    {
      "cell_type": "markdown",
      "source": [
        "# Описание наборов данных"
      ],
      "metadata": {
        "id": "yMcfc-MIrVp3"
      }
    },
    {
      "cell_type": "code",
      "source": [
        "data = pd.read_csv(\"/content/gdrive/My Drive/Kaliningrad_weather_19102020_15102011.csv\",sep=';', encoding='iso-8859-1')\n",
        "data.head()\n"
      ],
      "metadata": {
        "colab": {
          "base_uri": "https://localhost:8080/",
          "height": 206
        },
        "id": "Q4X85KNCIxAl",
        "outputId": "4c4cf010-38d4-4e51-9b82-57e348e89cac"
      },
      "execution_count": null,
      "outputs": [
        {
          "output_type": "execute_result",
          "data": {
            "text/plain": [
              "          LocalTime    T     Po      P  Pa     U     DD\n",
              "0  19.10.2020 11:00  8.0  761.2  762.5 NaN  83.0  Âåòåð\n",
              "1  19.10.2020 08:00  5.3  760.0  761.3 NaN  90.0  Âåòåð\n",
              "2  19.10.2020 05:00  3.1  759.2  760.6 NaN  94.0  Âåòåð\n",
              "3  19.10.2020 02:00  2.9  758.2  759.6 NaN  90.0  Âåòåð\n",
              "4  18.10.2020 23:00  3.0  757.2  758.5 NaN  91.0  Âåòåð"
            ],
            "text/html": [
              "\n",
              "  <div id=\"df-b9db855a-7436-4981-b482-80e27dbf7d78\" class=\"colab-df-container\">\n",
              "    <div>\n",
              "<style scoped>\n",
              "    .dataframe tbody tr th:only-of-type {\n",
              "        vertical-align: middle;\n",
              "    }\n",
              "\n",
              "    .dataframe tbody tr th {\n",
              "        vertical-align: top;\n",
              "    }\n",
              "\n",
              "    .dataframe thead th {\n",
              "        text-align: right;\n",
              "    }\n",
              "</style>\n",
              "<table border=\"1\" class=\"dataframe\">\n",
              "  <thead>\n",
              "    <tr style=\"text-align: right;\">\n",
              "      <th></th>\n",
              "      <th>LocalTime</th>\n",
              "      <th>T</th>\n",
              "      <th>Po</th>\n",
              "      <th>P</th>\n",
              "      <th>Pa</th>\n",
              "      <th>U</th>\n",
              "      <th>DD</th>\n",
              "    </tr>\n",
              "  </thead>\n",
              "  <tbody>\n",
              "    <tr>\n",
              "      <th>0</th>\n",
              "      <td>19.10.2020 11:00</td>\n",
              "      <td>8.0</td>\n",
              "      <td>761.2</td>\n",
              "      <td>762.5</td>\n",
              "      <td>NaN</td>\n",
              "      <td>83.0</td>\n",
              "      <td>Âåòåð</td>\n",
              "    </tr>\n",
              "    <tr>\n",
              "      <th>1</th>\n",
              "      <td>19.10.2020 08:00</td>\n",
              "      <td>5.3</td>\n",
              "      <td>760.0</td>\n",
              "      <td>761.3</td>\n",
              "      <td>NaN</td>\n",
              "      <td>90.0</td>\n",
              "      <td>Âåòåð</td>\n",
              "    </tr>\n",
              "    <tr>\n",
              "      <th>2</th>\n",
              "      <td>19.10.2020 05:00</td>\n",
              "      <td>3.1</td>\n",
              "      <td>759.2</td>\n",
              "      <td>760.6</td>\n",
              "      <td>NaN</td>\n",
              "      <td>94.0</td>\n",
              "      <td>Âåòåð</td>\n",
              "    </tr>\n",
              "    <tr>\n",
              "      <th>3</th>\n",
              "      <td>19.10.2020 02:00</td>\n",
              "      <td>2.9</td>\n",
              "      <td>758.2</td>\n",
              "      <td>759.6</td>\n",
              "      <td>NaN</td>\n",
              "      <td>90.0</td>\n",
              "      <td>Âåòåð</td>\n",
              "    </tr>\n",
              "    <tr>\n",
              "      <th>4</th>\n",
              "      <td>18.10.2020 23:00</td>\n",
              "      <td>3.0</td>\n",
              "      <td>757.2</td>\n",
              "      <td>758.5</td>\n",
              "      <td>NaN</td>\n",
              "      <td>91.0</td>\n",
              "      <td>Âåòåð</td>\n",
              "    </tr>\n",
              "  </tbody>\n",
              "</table>\n",
              "</div>\n",
              "    <div class=\"colab-df-buttons\">\n",
              "\n",
              "  <div class=\"colab-df-container\">\n",
              "    <button class=\"colab-df-convert\" onclick=\"convertToInteractive('df-b9db855a-7436-4981-b482-80e27dbf7d78')\"\n",
              "            title=\"Convert this dataframe to an interactive table.\"\n",
              "            style=\"display:none;\">\n",
              "\n",
              "  <svg xmlns=\"http://www.w3.org/2000/svg\" height=\"24px\" viewBox=\"0 -960 960 960\">\n",
              "    <path d=\"M120-120v-720h720v720H120Zm60-500h600v-160H180v160Zm220 220h160v-160H400v160Zm0 220h160v-160H400v160ZM180-400h160v-160H180v160Zm440 0h160v-160H620v160ZM180-180h160v-160H180v160Zm440 0h160v-160H620v160Z\"/>\n",
              "  </svg>\n",
              "    </button>\n",
              "\n",
              "  <style>\n",
              "    .colab-df-container {\n",
              "      display:flex;\n",
              "      gap: 12px;\n",
              "    }\n",
              "\n",
              "    .colab-df-convert {\n",
              "      background-color: #E8F0FE;\n",
              "      border: none;\n",
              "      border-radius: 50%;\n",
              "      cursor: pointer;\n",
              "      display: none;\n",
              "      fill: #1967D2;\n",
              "      height: 32px;\n",
              "      padding: 0 0 0 0;\n",
              "      width: 32px;\n",
              "    }\n",
              "\n",
              "    .colab-df-convert:hover {\n",
              "      background-color: #E2EBFA;\n",
              "      box-shadow: 0px 1px 2px rgba(60, 64, 67, 0.3), 0px 1px 3px 1px rgba(60, 64, 67, 0.15);\n",
              "      fill: #174EA6;\n",
              "    }\n",
              "\n",
              "    .colab-df-buttons div {\n",
              "      margin-bottom: 4px;\n",
              "    }\n",
              "\n",
              "    [theme=dark] .colab-df-convert {\n",
              "      background-color: #3B4455;\n",
              "      fill: #D2E3FC;\n",
              "    }\n",
              "\n",
              "    [theme=dark] .colab-df-convert:hover {\n",
              "      background-color: #434B5C;\n",
              "      box-shadow: 0px 1px 3px 1px rgba(0, 0, 0, 0.15);\n",
              "      filter: drop-shadow(0px 1px 2px rgba(0, 0, 0, 0.3));\n",
              "      fill: #FFFFFF;\n",
              "    }\n",
              "  </style>\n",
              "\n",
              "    <script>\n",
              "      const buttonEl =\n",
              "        document.querySelector('#df-b9db855a-7436-4981-b482-80e27dbf7d78 button.colab-df-convert');\n",
              "      buttonEl.style.display =\n",
              "        google.colab.kernel.accessAllowed ? 'block' : 'none';\n",
              "\n",
              "      async function convertToInteractive(key) {\n",
              "        const element = document.querySelector('#df-b9db855a-7436-4981-b482-80e27dbf7d78');\n",
              "        const dataTable =\n",
              "          await google.colab.kernel.invokeFunction('convertToInteractive',\n",
              "                                                    [key], {});\n",
              "        if (!dataTable) return;\n",
              "\n",
              "        const docLinkHtml = 'Like what you see? Visit the ' +\n",
              "          '<a target=\"_blank\" href=https://colab.research.google.com/notebooks/data_table.ipynb>data table notebook</a>'\n",
              "          + ' to learn more about interactive tables.';\n",
              "        element.innerHTML = '';\n",
              "        dataTable['output_type'] = 'display_data';\n",
              "        await google.colab.output.renderOutput(dataTable, element);\n",
              "        const docLink = document.createElement('div');\n",
              "        docLink.innerHTML = docLinkHtml;\n",
              "        element.appendChild(docLink);\n",
              "      }\n",
              "    </script>\n",
              "  </div>\n",
              "\n",
              "\n",
              "<div id=\"df-59b6cd36-84e4-489c-aa2a-ab0b097b4a47\">\n",
              "  <button class=\"colab-df-quickchart\" onclick=\"quickchart('df-59b6cd36-84e4-489c-aa2a-ab0b097b4a47')\"\n",
              "            title=\"Suggest charts\"\n",
              "            style=\"display:none;\">\n",
              "\n",
              "<svg xmlns=\"http://www.w3.org/2000/svg\" height=\"24px\"viewBox=\"0 0 24 24\"\n",
              "     width=\"24px\">\n",
              "    <g>\n",
              "        <path d=\"M19 3H5c-1.1 0-2 .9-2 2v14c0 1.1.9 2 2 2h14c1.1 0 2-.9 2-2V5c0-1.1-.9-2-2-2zM9 17H7v-7h2v7zm4 0h-2V7h2v10zm4 0h-2v-4h2v4z\"/>\n",
              "    </g>\n",
              "</svg>\n",
              "  </button>\n",
              "\n",
              "<style>\n",
              "  .colab-df-quickchart {\n",
              "      --bg-color: #E8F0FE;\n",
              "      --fill-color: #1967D2;\n",
              "      --hover-bg-color: #E2EBFA;\n",
              "      --hover-fill-color: #174EA6;\n",
              "      --disabled-fill-color: #AAA;\n",
              "      --disabled-bg-color: #DDD;\n",
              "  }\n",
              "\n",
              "  [theme=dark] .colab-df-quickchart {\n",
              "      --bg-color: #3B4455;\n",
              "      --fill-color: #D2E3FC;\n",
              "      --hover-bg-color: #434B5C;\n",
              "      --hover-fill-color: #FFFFFF;\n",
              "      --disabled-bg-color: #3B4455;\n",
              "      --disabled-fill-color: #666;\n",
              "  }\n",
              "\n",
              "  .colab-df-quickchart {\n",
              "    background-color: var(--bg-color);\n",
              "    border: none;\n",
              "    border-radius: 50%;\n",
              "    cursor: pointer;\n",
              "    display: none;\n",
              "    fill: var(--fill-color);\n",
              "    height: 32px;\n",
              "    padding: 0;\n",
              "    width: 32px;\n",
              "  }\n",
              "\n",
              "  .colab-df-quickchart:hover {\n",
              "    background-color: var(--hover-bg-color);\n",
              "    box-shadow: 0 1px 2px rgba(60, 64, 67, 0.3), 0 1px 3px 1px rgba(60, 64, 67, 0.15);\n",
              "    fill: var(--button-hover-fill-color);\n",
              "  }\n",
              "\n",
              "  .colab-df-quickchart-complete:disabled,\n",
              "  .colab-df-quickchart-complete:disabled:hover {\n",
              "    background-color: var(--disabled-bg-color);\n",
              "    fill: var(--disabled-fill-color);\n",
              "    box-shadow: none;\n",
              "  }\n",
              "\n",
              "  .colab-df-spinner {\n",
              "    border: 2px solid var(--fill-color);\n",
              "    border-color: transparent;\n",
              "    border-bottom-color: var(--fill-color);\n",
              "    animation:\n",
              "      spin 1s steps(1) infinite;\n",
              "  }\n",
              "\n",
              "  @keyframes spin {\n",
              "    0% {\n",
              "      border-color: transparent;\n",
              "      border-bottom-color: var(--fill-color);\n",
              "      border-left-color: var(--fill-color);\n",
              "    }\n",
              "    20% {\n",
              "      border-color: transparent;\n",
              "      border-left-color: var(--fill-color);\n",
              "      border-top-color: var(--fill-color);\n",
              "    }\n",
              "    30% {\n",
              "      border-color: transparent;\n",
              "      border-left-color: var(--fill-color);\n",
              "      border-top-color: var(--fill-color);\n",
              "      border-right-color: var(--fill-color);\n",
              "    }\n",
              "    40% {\n",
              "      border-color: transparent;\n",
              "      border-right-color: var(--fill-color);\n",
              "      border-top-color: var(--fill-color);\n",
              "    }\n",
              "    60% {\n",
              "      border-color: transparent;\n",
              "      border-right-color: var(--fill-color);\n",
              "    }\n",
              "    80% {\n",
              "      border-color: transparent;\n",
              "      border-right-color: var(--fill-color);\n",
              "      border-bottom-color: var(--fill-color);\n",
              "    }\n",
              "    90% {\n",
              "      border-color: transparent;\n",
              "      border-bottom-color: var(--fill-color);\n",
              "    }\n",
              "  }\n",
              "</style>\n",
              "\n",
              "  <script>\n",
              "    async function quickchart(key) {\n",
              "      const quickchartButtonEl =\n",
              "        document.querySelector('#' + key + ' button');\n",
              "      quickchartButtonEl.disabled = true;  // To prevent multiple clicks.\n",
              "      quickchartButtonEl.classList.add('colab-df-spinner');\n",
              "      try {\n",
              "        const charts = await google.colab.kernel.invokeFunction(\n",
              "            'suggestCharts', [key], {});\n",
              "      } catch (error) {\n",
              "        console.error('Error during call to suggestCharts:', error);\n",
              "      }\n",
              "      quickchartButtonEl.classList.remove('colab-df-spinner');\n",
              "      quickchartButtonEl.classList.add('colab-df-quickchart-complete');\n",
              "    }\n",
              "    (() => {\n",
              "      let quickchartButtonEl =\n",
              "        document.querySelector('#df-59b6cd36-84e4-489c-aa2a-ab0b097b4a47 button');\n",
              "      quickchartButtonEl.style.display =\n",
              "        google.colab.kernel.accessAllowed ? 'block' : 'none';\n",
              "    })();\n",
              "  </script>\n",
              "</div>\n",
              "\n",
              "    </div>\n",
              "  </div>\n"
            ],
            "application/vnd.google.colaboratory.intrinsic+json": {
              "type": "dataframe",
              "variable_name": "data",
              "summary": "{\n  \"name\": \"data\",\n  \"rows\": 26269,\n  \"fields\": [\n    {\n      \"column\": \"LocalTime\",\n      \"properties\": {\n        \"dtype\": \"object\",\n        \"num_unique_values\": 26269,\n        \"samples\": [\n          \"05.07.2012 11:00\",\n          \"13.09.2015 14:00\",\n          \"15.01.2013 02:00\"\n        ],\n        \"semantic_type\": \"\",\n        \"description\": \"\"\n      }\n    },\n    {\n      \"column\": \"T\",\n      \"properties\": {\n        \"dtype\": \"number\",\n        \"std\": 8.36207933389987,\n        \"min\": -24.3,\n        \"max\": 34.8,\n        \"num_unique_values\": 522,\n        \"samples\": [\n          -18.4,\n          -13.8,\n          7.5\n        ],\n        \"semantic_type\": \"\",\n        \"description\": \"\"\n      }\n    },\n    {\n      \"column\": \"Po\",\n      \"properties\": {\n        \"dtype\": \"number\",\n        \"std\": 7.15019779730661,\n        \"min\": 727.8,\n        \"max\": 783.4,\n        \"num_unique_values\": 515,\n        \"samples\": [\n          740.7,\n          782.6,\n          779.7\n        ],\n        \"semantic_type\": \"\",\n        \"description\": \"\"\n      }\n    },\n    {\n      \"column\": \"P\",\n      \"properties\": {\n        \"dtype\": \"number\",\n        \"std\": 7.1756580642236205,\n        \"min\": 729.7,\n        \"max\": 785.6,\n        \"num_unique_values\": 511,\n        \"samples\": [\n          768.2,\n          753.9,\n          732.1\n        ],\n        \"semantic_type\": \"\",\n        \"description\": \"\"\n      }\n    },\n    {\n      \"column\": \"Pa\",\n      \"properties\": {\n        \"dtype\": \"number\",\n        \"std\": 0.9386469439666121,\n        \"min\": -13.3,\n        \"max\": 13.8,\n        \"num_unique_values\": 113,\n        \"samples\": [\n          3.8,\n          0.1,\n          1.7\n        ],\n        \"semantic_type\": \"\",\n        \"description\": \"\"\n      }\n    },\n    {\n      \"column\": \"U\",\n      \"properties\": {\n        \"dtype\": \"number\",\n        \"std\": 16.083324301866885,\n        \"min\": 19.0,\n        \"max\": 100.0,\n        \"num_unique_values\": 82,\n        \"samples\": [\n          57.0,\n          83.0,\n          76.0\n        ],\n        \"semantic_type\": \"\",\n        \"description\": \"\"\n      }\n    },\n    {\n      \"column\": \"DD\",\n      \"properties\": {\n        \"dtype\": \"category\",\n        \"num_unique_values\": 2,\n        \"samples\": [\n          \"\\u00d8\\u00f2\\u00e8\\u00eb\\u00fc\",\n          \"\\u00c2\\u00e5\\u00f2\\u00e5\\u00f0\"\n        ],\n        \"semantic_type\": \"\",\n        \"description\": \"\"\n      }\n    }\n  ]\n}"
            }
          },
          "metadata": {},
          "execution_count": 3
        }
      ]
    },
    {
      "cell_type": "code",
      "source": [
        "data.info()"
      ],
      "metadata": {
        "colab": {
          "base_uri": "https://localhost:8080/"
        },
        "id": "v9ADCrwqJAsZ",
        "outputId": "424030fd-bfbf-4ed5-94ee-e4006f5260a8"
      },
      "execution_count": null,
      "outputs": [
        {
          "output_type": "stream",
          "name": "stdout",
          "text": [
            "<class 'pandas.core.frame.DataFrame'>\n",
            "RangeIndex: 26269 entries, 0 to 26268\n",
            "Data columns (total 7 columns):\n",
            " #   Column     Non-Null Count  Dtype  \n",
            "---  ------     --------------  -----  \n",
            " 0   LocalTime  26269 non-null  object \n",
            " 1   T          26253 non-null  float64\n",
            " 2   Po         26237 non-null  float64\n",
            " 3   P          26221 non-null  float64\n",
            " 4   Pa         21831 non-null  float64\n",
            " 5   U          26233 non-null  float64\n",
            " 6   DD         25864 non-null  object \n",
            "dtypes: float64(5), object(2)\n",
            "memory usage: 1.4+ MB\n"
          ]
        }
      ]
    },
    {
      "cell_type": "markdown",
      "source": [
        "#Признаки, которые были использованы для анализа"
      ],
      "metadata": {
        "id": "AjECfxLPq0BJ"
      }
    },
    {
      "cell_type": "code",
      "source": [
        "data = data[['LocalTime', 'T']]"
      ],
      "metadata": {
        "id": "TIzZ2bgsJG7B"
      },
      "execution_count": null,
      "outputs": []
    },
    {
      "cell_type": "code",
      "source": [
        "data.isna().sum()"
      ],
      "metadata": {
        "colab": {
          "base_uri": "https://localhost:8080/",
          "height": 147
        },
        "id": "7waE6T1CJPTB",
        "outputId": "c3bf524d-ea5d-4e72-d637-4bbe5d42d5b8"
      },
      "execution_count": null,
      "outputs": [
        {
          "output_type": "execute_result",
          "data": {
            "text/plain": [
              "LocalTime     0\n",
              "T            16\n",
              "dtype: int64"
            ],
            "text/html": [
              "<div>\n",
              "<style scoped>\n",
              "    .dataframe tbody tr th:only-of-type {\n",
              "        vertical-align: middle;\n",
              "    }\n",
              "\n",
              "    .dataframe tbody tr th {\n",
              "        vertical-align: top;\n",
              "    }\n",
              "\n",
              "    .dataframe thead th {\n",
              "        text-align: right;\n",
              "    }\n",
              "</style>\n",
              "<table border=\"1\" class=\"dataframe\">\n",
              "  <thead>\n",
              "    <tr style=\"text-align: right;\">\n",
              "      <th></th>\n",
              "      <th>0</th>\n",
              "    </tr>\n",
              "  </thead>\n",
              "  <tbody>\n",
              "    <tr>\n",
              "      <th>LocalTime</th>\n",
              "      <td>0</td>\n",
              "    </tr>\n",
              "    <tr>\n",
              "      <th>T</th>\n",
              "      <td>16</td>\n",
              "    </tr>\n",
              "  </tbody>\n",
              "</table>\n",
              "</div><br><label><b>dtype:</b> int64</label>"
            ]
          },
          "metadata": {},
          "execution_count": 6
        }
      ]
    },
    {
      "cell_type": "code",
      "source": [
        "data = data.dropna()"
      ],
      "metadata": {
        "id": "sv1PSBDfJRER"
      },
      "execution_count": null,
      "outputs": []
    },
    {
      "cell_type": "code",
      "source": [
        "data.isna().sum()"
      ],
      "metadata": {
        "colab": {
          "base_uri": "https://localhost:8080/",
          "height": 147
        },
        "id": "W8GuC5DEJUBn",
        "outputId": "730672b6-ab6f-4e57-e0c8-3736bc5b7cb9"
      },
      "execution_count": null,
      "outputs": [
        {
          "output_type": "execute_result",
          "data": {
            "text/plain": [
              "LocalTime    0\n",
              "T            0\n",
              "dtype: int64"
            ],
            "text/html": [
              "<div>\n",
              "<style scoped>\n",
              "    .dataframe tbody tr th:only-of-type {\n",
              "        vertical-align: middle;\n",
              "    }\n",
              "\n",
              "    .dataframe tbody tr th {\n",
              "        vertical-align: top;\n",
              "    }\n",
              "\n",
              "    .dataframe thead th {\n",
              "        text-align: right;\n",
              "    }\n",
              "</style>\n",
              "<table border=\"1\" class=\"dataframe\">\n",
              "  <thead>\n",
              "    <tr style=\"text-align: right;\">\n",
              "      <th></th>\n",
              "      <th>0</th>\n",
              "    </tr>\n",
              "  </thead>\n",
              "  <tbody>\n",
              "    <tr>\n",
              "      <th>LocalTime</th>\n",
              "      <td>0</td>\n",
              "    </tr>\n",
              "    <tr>\n",
              "      <th>T</th>\n",
              "      <td>0</td>\n",
              "    </tr>\n",
              "  </tbody>\n",
              "</table>\n",
              "</div><br><label><b>dtype:</b> int64</label>"
            ]
          },
          "metadata": {},
          "execution_count": 8
        }
      ]
    },
    {
      "cell_type": "code",
      "source": [
        "plt.plot(range(1, len(data['T'].values) +1), data['T'].values)"
      ],
      "metadata": {
        "colab": {
          "base_uri": "https://localhost:8080/",
          "height": 447
        },
        "id": "rlYopbCkJYQz",
        "outputId": "a71471e5-185b-4f1b-dd27-4695cb159872"
      },
      "execution_count": null,
      "outputs": [
        {
          "output_type": "execute_result",
          "data": {
            "text/plain": [
              "[<matplotlib.lines.Line2D at 0x7d69b6f51930>]"
            ]
          },
          "metadata": {},
          "execution_count": 9
        },
        {
          "output_type": "display_data",
          "data": {
            "text/plain": [
              "<Figure size 640x480 with 1 Axes>"
            ],
            "image/png": "[encoded data removed]"
          },
          "metadata": {}
        }
      ]
    },
    {
      "cell_type": "markdown",
      "source": [
        "Эта строка использует библиотеку matplotlib.pyplot (импортированную как plt) для создания простого линейного графика. Вот что происходит:\n",
        "\n",
        "1. `plt.plot()`: Это функция, которая создает график. Она принимает два основных аргумента: значения по оси x и значения по оси y.\n",
        "\n",
        "2. `range(1, len(data['T'].values) + 1)`: Это генерирует последовательность чисел, которые будут использоваться в качестве значений по оси x для графика.\n",
        "\n",
        "  - `data['T'].values` извлекает значения из столбца 'T' (вероятно, температура) из DataFrame data в виде массива NumPy.\n",
        "  - `len(data['T'].values)` получает общее количество значений температуры.\n",
        "  - `range(1, len(data['T'].values) + 1)` создает последовательность чисел от 1 до общего количества значений температуры. Это делается для того, чтобы обеспечить индекс для оси x, начиная с 1 вместо 0.\n",
        "\n",
        "3. `data['T'].values`: Это второй аргумент для `plt.plot()` и предоставляет значения по оси y для графика. Это просто значения температуры, извлеченные ранее."
      ],
      "metadata": {
        "id": "zqUlSJrq0jSa"
      }
    },
    {
      "cell_type": "code",
      "source": [
        "# Extract and normalize the target column\n",
        "min_max_scaler = MinMaxScaler()\n",
        "data = data['T'].values\n",
        "data = min_max_scaler.fit_transform(data.reshape(-1,1))"
      ],
      "metadata": {
        "id": "pq2u0VbnJhmf"
      },
      "execution_count": null,
      "outputs": []
    },
    {
      "cell_type": "markdown",
      "source": [
        "1. `min_max_scaler = MinMaxScaler()`: Эта строка создает экземпляр класса MinMaxScaler из модуля sklearn.preprocessing. Этот инструмент будет использоваться для нормализации данных.\n",
        "\n",
        "2. `data = data['T'].values`: Эта строка извлекает значения из столбца 'T' (который, представляет температуру) из DataFrame data и присваивает их переменной data. Атрибут .values преобразует столбец в массив NumPy.\n",
        "\n",
        "3. `data = min_max_scaler.fit_transform(data.reshape(-1,1))`: Это ядро процесса нормализации. Разберем его подробнее:\n",
        "\n",
        "  - `data.reshape(-1,1)`: Эта часть изменяет форму массива data в формат, подходящий для MinMaxScaler. -1 в функции reshape указывает, что NumPy должен автоматически рассчитать количество строк на основе размера массива и указанного количества столбцов (которое равно 1 в данном случае). По сути, он преобразует данные из одномерного массива в двумерный массив с одним столбцом. Это необходимо, потому что MinMaxScaler ожидает на входе двумерный массив.\n",
        "  - `min_max_scaler.fit_transform(...)`: Эта часть выполняет две задачи:\n",
        "    - `fit`: Инструмент масштабирования изучает минимальное и максимальное значения из массива data. Он вычисляет эту статистику, чтобы понять диапазон данных.\n",
        "    - `transform`: Он применяет изученное масштабирование к самим data, преобразовывая значения в диапазон от 0 до 1 (по умолчанию). Это делается путем вычитания минимального значения и деления на диапазон (максимум - минимум) для каждого значения в данных."
      ],
      "metadata": {
        "id": "bjRVaaHC1v0H"
      }
    },
    {
      "cell_type": "code",
      "source": [
        "data.shape"
      ],
      "metadata": {
        "colab": {
          "base_uri": "https://localhost:8080/"
        },
        "id": "P2uRk4OLJzoL",
        "outputId": "9e59ec75-6d10-4f38-d598-79be0b54968c"
      },
      "execution_count": null,
      "outputs": [
        {
          "output_type": "execute_result",
          "data": {
            "text/plain": [
              "(26253, 1)"
            ]
          },
          "metadata": {},
          "execution_count": 11
        }
      ]
    },
    {
      "cell_type": "code",
      "source": [
        "# Flatten the data shape\n",
        "data = data.flatten()\n",
        "print(data.shape)"
      ],
      "metadata": {
        "colab": {
          "base_uri": "https://localhost:8080/"
        },
        "id": "qQ3qkUc0J2Vm",
        "outputId": "e35daa5c-2313-4af5-b672-d96dc75df7cf"
      },
      "execution_count": null,
      "outputs": [
        {
          "output_type": "stream",
          "name": "stdout",
          "text": [
            "(26253,)\n"
          ]
        }
      ]
    },
    {
      "cell_type": "markdown",
      "source": [
        "Основная цель здесь — преобразовать переменную data, которая, является многомерным массивом (например, матрицей), в одномерный массив (например, простой список чисел). Этот процесс называется \"выравниванием\" или \"сплющиванием\"."
      ],
      "metadata": {
        "id": "6jY8cXSi7Jk6"
      }
    },
    {
      "cell_type": "code",
      "source": [
        "window = 15\n",
        "\n",
        "# Calculate the number of samples for training, validation, and test sets\n",
        "n_samples = data.shape[0] - window\n",
        "n_train_samples = round(.7 * n_samples)\n",
        "n_val_samples = round(.15 * n_samples)\n",
        "n_test_samples= n_samples - n_train_samples - n_val_samples\n",
        "\n",
        "print('Train = ', n_train_samples,\n",
        "      'Validation = ', n_val_samples,\n",
        "      'Test = ', n_test_samples)"
      ],
      "metadata": {
        "colab": {
          "base_uri": "https://localhost:8080/"
        },
        "id": "H5vx1bYgKFVD",
        "outputId": "347d2869-ea31-4d8e-9055-0d1446e53fd3"
      },
      "execution_count": null,
      "outputs": [
        {
          "output_type": "stream",
          "name": "stdout",
          "text": [
            "Train =  18367 Validation =  3936 Test =  3935\n"
          ]
        }
      ]
    },
    {
      "cell_type": "markdown",
      "source": [
        "1. `window = 15`:\n",
        "\n",
        "  - Эта строка определяет переменную с именем window и устанавливает ее значение равным 15.\n",
        "  - window, представляет собой период ретроспективного анализа или длину последовательности. В анализе временных рядов это означает, что модель будет использовать предыдущие 15 точек данных (например, показания температуры) для прогнозирования следующей точки данных.\n",
        "\n",
        "2. `n_samples = data.shape[0] - window`:\n",
        "\n",
        "  - `data.shape[0]` возвращает общее количество точек данных в вашем наборе данных.\n",
        "  - Мы вычитаем размер window, потому что нам нужно учесть период ретроспективного анализа. У последних window точек данных не будет достаточно предшествующих данных, чтобы сформировать полную входную последовательность.\n",
        "  - `n_samples` теперь содержит общее количество используемых выборок для обучения, валидации и тестирования.\n",
        "\n",
        "3. `n_train_samples = round(.7 * n_samples)`:\n",
        "\n",
        "  - Эта строка вычисляет количество выборок для обучающего набора.\n",
        "  - Она берет 70% (0.7) от общего количества используемых выборок (`n_samples`) и округляет до ближайшего целого числа.\n",
        "  - Обучающий набор - это самая большая часть данных, которая используется для обучения модели распознаванию закономерностей в данных.\n",
        "\n",
        "4. `n_val_samples = round(.15 * n_samples)`:\n",
        "\n",
        "  - Эта строка вычисляет количество выборок для валидационного набора.\n",
        "  - Она берет 15% (0.15) от общего количества используемых выборок и округляет до ближайшего целого числа.\n",
        "  - Валидационный набор используется для оценки производительности модели во время обучения и для тонкой настройки параметров модели. Он помогает предотвратить переобучение, которое возникает, когда модель хорошо работает на обучающих данных, но плохо на невидимых данных.\n",
        "\n",
        "5. `n_test_samples= n_samples - n_train_samples - n_val_samples`:\n",
        "\n",
        "  - Эта строка вычисляет количество выборок для тестового набора.\n",
        "  - Она берет оставшиеся выборки после выделения для обучающего и валидационного наборов. В этом случае это будет около 15% (100% - 70% - 15%).\n",
        "  - Тестовый набор откладывается до самого конца и используется для получения окончательной, непредвзятой оценки производительности модели на невидимых данных.\n",
        "\n",
        "6. `print(...)`:\n",
        "  - Эта строка просто выводит вычисленные размеры обучающего, валидационного и тестового наборов в консоль, предоставляя вам обзор разделения данных."
      ],
      "metadata": {
        "id": "5gCkphymxM29"
      }
    },
    {
      "cell_type": "code",
      "source": [
        "# Function to create input-output pairs or a given set\n",
        "def create_pais(start_index, num_samples):\n",
        "  X= [data[start_index + i : start_index + i + window] for i in range(num_samples)]\n",
        "  y = [data[start_index + i + window] for i in range(num_samples)]\n",
        "  return np.array(X), np.array(y)"
      ],
      "metadata": {
        "id": "Rk5AH_JUKwl_"
      },
      "execution_count": null,
      "outputs": []
    },
    {
      "cell_type": "markdown",
      "source": [
        "1. `def create_pais(start_index, num_samples)`:\n",
        "\n",
        "  - Эта строка определяет функцию с именем `create_pais`, которая принимает два аргумента:\n",
        "    - `start_index`: Индекс в массиве data, с которого начинается создание пар.\n",
        "    - `num_samples`: Общее количество пар входных-выходных данных, которые нужно создать.\n",
        "\n",
        "2. `X = [data[start_index + i : start_index + i + window] for i in range(num_samples)]`:\n",
        "\n",
        "  - Эта строка создает входные данные (X).\n",
        "  - Она использует генератор списков для создания списка подпоследовательностей из массива data.\n",
        "  - Для каждого i в диапазоне num_samples он извлекает фрагмент данных, начинающийся с start_index + i и заканчивающийся на start_index + i + window. Этот фрагмент становится одной входной последовательностью.\n",
        "  - Напомним, что window был определен ранее и представляет собой период ретроспективного анализа или количество предыдущих временных шагов, которые необходимо учитывать для прогнозирования следующего значения.\n",
        "  - Следовательно, каждый элемент в X представляет собой последовательность длиной window, представляющую историческое окно данных.\n",
        "\n",
        "3. `y = [data[start_index + i + window] for i in range(num_samples)]`:\n",
        "\n",
        "  - Эта строка создает выходные данные (y).\n",
        "  - Она также использует генератор списков для создания списка целевых значений.\n",
        "  - Для каждого i он берет точку данных, которая непосредственно следует за входной последовательностью в X. Это значение, которое модель будет обучена предсказывать.\n",
        "\n",
        "4. `return np.array(X), np.array(y)`:\n",
        "\n",
        "  - Эта строка преобразует списки X and y в массивы NumPy, которые более эффективны для численных вычислений.\n",
        "  - Наконец, она возвращает эти два массива в виде кортежа, представляющего пары входных-выходных данных, готовые к использованию для обучения модели."
      ],
      "metadata": {
        "id": "8Q7hGEJZzwpZ"
      }
    },
    {
      "cell_type": "code",
      "source": [
        "# Create training, validation , and test sets\n",
        "\n",
        "X_train, y_train = create_pais(0, n_train_samples)\n",
        "X_val, y_val = create_pais(n_train_samples, n_val_samples)\n",
        "X_test, y_test = create_pais(n_train_samples + n_val_samples, n_test_samples)"
      ],
      "metadata": {
        "id": "bJDpjV4nLQJr"
      },
      "execution_count": null,
      "outputs": []
    },
    {
      "cell_type": "markdown",
      "source": [
        "1. `X_train, y_train = create_pais(0, n_train_samples)`:\n",
        "\n",
        "  - Эта строка создает обучающий набор данных.\n",
        "  - Она вызывает функцию create_pais, которую мы обсудим чуть позже.\n",
        "  - В качестве start_index передается 0, что означает начало с самого начала данных.\n",
        "  - Передается n_train_samples, чтобы указать количество обучающих выборок для создания.\n",
        "  - Функция create_pais возвращает два массива:\n",
        "    - X_train: Будет содержать входные признаки для обучения (вероятно, последовательность прошлых значений температуры).\n",
        "    - y_train: Будет содержать соответствующие целевые значения для обучения (вероятно, значение температуры, которое нужно предсказать).\n",
        "\n",
        "2. `X_val, y_val = create_pais(n_train_samples, n_val_samples)`:\n",
        "\n",
        "  - Эта строка создает валидационный набор данных.\n",
        "  - Она снова вызывает create_pais.\n",
        "  - На этот раз в качестве start_index передается n_train_samples. Это гарантирует, что валидационный набор начинается там, где заканчивается обучающий набор, избегая перекрытия.\n",
        "  - Передается n_val_samples, чтобы указать количество валидационных выборок.\n",
        "  - Аналогично предыдущему, получаем X_val (входные признаки для валидации) и y_val (целевые значения для валидации).\n",
        "\n",
        "3. `X_test, y_test = create_pais(n_train_samples + n_val_samples, n_test_samples)`:\n",
        "\n",
        "  - Эта строка создает тестовый набор данных.\n",
        "  - Она следует той же логике, что и предыдущие строки, вызывая create_pais.\n",
        "  - start_index устанавливается равным n_train_samples + - n_val_samples, гарантируя, что тестовый набор начинается после обучающего и валидационного наборов.\n",
        "  - Передается n_test_samples, чтобы указать количество тестовых выборок.\n",
        "  - Получаем X_test (входные признаки для тестирования) и y_test (целевые значения для тестирования)."
      ],
      "metadata": {
        "id": "7DzSRRwO06OK"
      }
    },
    {
      "cell_type": "code",
      "source": [
        "# Reshape the data\n",
        "\n",
        "X_train = np.reshape(X_train, (X_train.shape[0], 1, X_train.shape[1]))\n",
        "X_val = np.reshape(X_val, (X_val.shape[0], 1, X_val.shape[1]))\n",
        "X_test= np.reshape(X_test, (X_test.shape[0], 1, X_test.shape[1]))"
      ],
      "metadata": {
        "id": "Ic97Ql2XLnc-"
      },
      "execution_count": null,
      "outputs": []
    },
    {
      "cell_type": "markdown",
      "source": [
        "1. `np.reshape`: Эта функция является основой операции. Она принимает существующий массив NumPy и возвращает новый массив с теми же данными, но организованными в другую форму.\n",
        "\n",
        "2. `(X_train.shape[0], 1, X_train.shape[1])`: Эта часть указывает желаемую новую форму для данных. Давайте разберем ее:\n",
        "  - `X_train.shape[0]`: Это относится к исходному количеству образцов или строк в X_train. Новая форма сохранит это измерение.\n",
        "  - 1: Это вводит новое измерение размера 1. Это часто требуется для определенных типов моделей машинного обучения, в частности рекуррентных нейронных сетей (RNN), таких как LSTM, которые ожидают, что входные данные будут иметь определенную трехмерную структуру (образцы, временные шаги, признаки).\n",
        "  - `X_train.shape[1]`: Это относится к исходному количеству признаков или столбцов в X_train. Это измерение также сохраняется в новой форме.\n",
        "\n",
        "3. Применение к `X_val` и `X_test`: Та же логика изменения формы применяется к данным валидации (X_val) и тестовым данным (X_test), чтобы обеспечить согласованность и совместимость с требованиями модели к входным данным."
      ],
      "metadata": {
        "id": "6o6ZuzGu8ujI"
      }
    },
    {
      "cell_type": "markdown",
      "source": [
        "# Параметры архитектур и обучения нейронных сетей, использованные для обучения"
      ],
      "metadata": {
        "id": "HAplZ4YktMuY"
      }
    },
    {
      "cell_type": "markdown",
      "source": [
        "## Регрессор (RNN)"
      ],
      "metadata": {
        "id": "FO3AwoigMH_o"
      }
    },
    {
      "cell_type": "code",
      "source": [
        "# Build the RNN model\n",
        "\n",
        "rnn_model = tf.keras.Sequential([\n",
        "    tf.keras.layers.SimpleRNN(10, activation='relu', input_shape=(X_train.shape[1], X_train.shape[2])),\n",
        "    Dropout(0.2),\n",
        "    tf.keras.layers.Dense(1, activation='linear')\n",
        "])"
      ],
      "metadata": {
        "id": "caGCSBR2MGhe",
        "colab": {
          "base_uri": "https://localhost:8080/"
        },
        "outputId": "385c5a29-c130-49f4-8bee-942ac7a614ed"
      },
      "execution_count": null,
      "outputs": [
        {
          "output_type": "stream",
          "name": "stderr",
          "text": [
            "/usr/local/lib/python3.10/dist-packages/keras/src/layers/rnn/rnn.py:204: UserWarning: Do not pass an `input_shape`/`input_dim` argument to a layer. When using Sequential models, prefer using an `Input(shape)` object as the first layer in the model instead.\n",
            "  super().__init__(**kwargs)\n"
          ]
        }
      ]
    },
    {
      "cell_type": "markdown",
      "source": [
        "1. `rnn_model = tf.keras.Sequential(...)`:\n",
        "\n",
        "  - Эта строка создает модель RNN с использованием API Sequential из Keras. Sequential означает, что модель будет обрабатывать слои один за другим в линейной последовательности.\n",
        "  - Вся структура модели определяется внутри квадратных скобок [...].\n",
        "\n",
        "2. `tf.keras.layers.SimpleRNN(10, activation='relu', input_shape=(X_train.shape[1], X_train.shape[2]))`:\n",
        "\n",
        "  - Это ядро модели RNN – слой SimpleRNN.\n",
        "  - 10: Это указывает количество \"единиц\" или \"нейронов\" внутри слоя RNN. Эти единицы отвечают за изучение закономерностей в последовательных данных.\n",
        "  - activation='relu': Функция 'relu' (Rectified Linear Unit) используется для введения нелинейности в модель, позволяя ей изучать более сложные взаимосвязи в данных.\n",
        "  - input_shape=(X_train.shape[1], X_train.shape[2]): Это определяет форму входных данных, которую ожидает слой RNN. Она берется из размеров ваших обучающих данных (X_train). Форма ввода, вероятно, (1, window), что означает, что модель получает один временной шаг за раз с window признаками (15 исторических точек данных в данном случае).\n",
        "\n",
        "3. `Dropout(0.2)`:\n",
        "\n",
        "  - Это метод регуляризации для предотвращения переобучения. Во время обучения он случайным образом \"выбрасывает\" (игнорирует) 20% нейронов в предыдущем слое. Это заставляет модель изучать более надежные признаки и лучше обобщать на невидимых данных.\n",
        "\n",
        "4. `tf.keras.layers.Dense(1, activation='linear')`:\n",
        "\n",
        "  - Это полносвязный (Dense) слой, который производит окончательный вывод модели.\n",
        "  - 1: Он имеет один нейрон, который соответствует одному значению, которое предсказывает модель (например, температура на следующем временном шаге).\n",
        "  - activation='linear': Используется линейная функция активации, что означает, что выход представляет собой простую линейную комбинацию входных данных из предыдущего слоя. Это характерно для задач регрессии (предсказания непрерывных значений)."
      ],
      "metadata": {
        "id": "8o6YN_T16QKU"
      }
    },
    {
      "cell_type": "code",
      "source": [
        "# Complie the RNN Model\n",
        "\n",
        "rnn_model.compile(loss='mse',\n",
        "                  optimizer='adam',\n",
        "                  metrics=['mae'])"
      ],
      "metadata": {
        "id": "PQPPtM1XMiPg"
      },
      "execution_count": null,
      "outputs": []
    },
    {
      "cell_type": "markdown",
      "source": [
        "1. `rnn_model.compile(...)`: Эта строка — основная команда для запуска процесса компиляции для `rnn_model` (которая была определена ранее в коде). Компиляция — это как дать модели инструкции о том, как учиться.\n",
        "\n",
        "2. `loss='mse'`:\n",
        "  - loss — это важный аргумент, который определяет функцию потерь. Эта функция вычисляет разницу между предсказаниями модели и фактическими целевыми значениями.\n",
        "  - `'mse'` означает Среднеквадратичная ошибка (Mean Squared Error), распространенную функцию потерь для задач регрессии. Она вычисляет среднее квадратов разностей между предсказанными и фактическими значениями. Цель модели во время обучения — минимизировать эту потерю.\n",
        "\n",
        "3. `optimizer='adam'`:\n",
        "\n",
        "  - `optimizer` определяет алгоритм оптимизации, используемый для обновления внутренних весов модели во время обучения. Эти веса — это то, что модель изучает, чтобы делать более точные предсказания.\n",
        "  - `'adam'` относится к оптимизатору Adam, популярному и эффективному алгоритму для обучения нейронных сетей. Он адаптивно корректирует скорость обучения для каждого параметра, что приводит к более быстрой и стабильной сходимости.\n",
        "\n",
        "4. `metrics=['mae']`:\n",
        "\n",
        "  - `metrics` указывает метрики оценки, используемые для мониторинга производительности модели во время обучения и тестирования. В то время как функция потерь направляет процесс оптимизации, метрики обеспечивают более понятную для человека оценку точности модели.\n",
        "  - `'mae'` означает Средняя абсолютная ошибка (Mean Absolute Error), еще одну распространенную метрику для регрессии. Она вычисляет среднее абсолютных разностей между предсказанными и фактическими значениями. Это дает представление о средней ошибке прогнозирования в тех же единицах, что и целевая переменная."
      ],
      "metadata": {
        "id": "AhCyv6G3BuyM"
      }
    },
    {
      "cell_type": "code",
      "source": [
        "# Останавливаем обучение, если валидационная точность не улучшилась в течение 10 эпох\n",
        "early_stop = EarlyStopping(\n",
        "    monitor='val_mae',\n",
        "    patience=10,\n",
        "    mode='max',\n",
        "    verbose=1\n",
        ")\n",
        "\n",
        "# Сохраняем веса модели, если валидационная точность улучшилась\n",
        "checkpoint = ModelCheckpoint(\n",
        "    'Kaliningrad_weather-{epoch:02d}-{val_mae:.3f}.keras',\n",
        "    monitor='val_mae',\n",
        "    verbose=1,\n",
        "    mode='max',\n",
        "    save_best_only=True\n",
        ")\n",
        "\n",
        "# Список колбеков, который будет передан в модель\n",
        "callbacks_list = [early_stop, checkpoint]\n"
      ],
      "metadata": {
        "id": "bqKKqwfRZVNE"
      },
      "execution_count": null,
      "outputs": []
    },
    {
      "cell_type": "markdown",
      "source": [
        "Этот код определяет два важных \"обратных вызова\" – `early_stop` и `checkpoint` – а затем объединяет их в список под названием `callbacks_list`. Эти обратные вызовы – это функции, которые будут выполняться во время обучения нейронной сети для мониторинга и управления ее прогрессом.\n",
        "<br>\n",
        "<br>\n",
        "**EarlyStopping**\n",
        "\n",
        "- Цель: Этот обратный вызов предназначен для досрочного прекращения процесса обучения, если производительность модели на данных проверки перестает улучшаться. Это помогает предотвратить переобучение, когда модель становится слишком специализированной для обучающих данных и плохо обобщается на новые, невидимые данные.\n",
        "- `monitor='val_mae'`: Это говорит EarlyStopping отслеживать \"среднюю абсолютную ошибку\" (mae) на наборе данных проверки (val_mae). Набор данных проверки – это часть ваших данных, на которых модель не обучается напрямую, используемая для оценки того, насколько хорошо она обобщается.\n",
        "- `patience=10'`: Это означает, что обучение будет продолжаться до 10 эпох (проходов через весь обучающий набор данных), даже если val_mae не улучшается. Это дает модели некоторую свободу действий, чтобы потенциально преодолеть временное плато в производительности.\n",
        "- `mode='max'`: Так как мы отслеживаем val_mae, и чем ниже mae, тем лучше, mode должен быть 'min'.\n",
        "- `verbose=1'`: Этот параметр гарантирует, что вы увидите сообщения, выводимые на консоль, когда EarlyStopping предпринимает действия (т.е. когда он останавливает обучение). <br><br>\n",
        "\n",
        "**ModelCheckpoint**\n",
        "\n",
        "- Цель: Этот обратный вызов сохраняет веса модели (выученные параметры) во время обучения. Это позволяет вам загрузить версию модели с наилучшей производительностью позже, даже если процесс обучения прерван или если модель начинает переобучаться.\n",
        "- `'Kaliningrad_weather-{epoch:02d}-{val_mae:.3f}.keras'`: Это определяет шаблон имени файла для сохраненных весов модели.\n",
        "  - `Kaliningrad_weather` – это префикс для имени.\n",
        "  - `{epoch:02d}` вставляет текущий номер эпохи (отформатированный с ведущими нулями).\n",
        "  - `{val_mae:.3f}` вставляет mae проверки (отформатированный до трех десятичных знаков).\n",
        "  - `.keras` – это расширение файла.\n",
        "- `monitor='val_mae'`: Подобно EarlyStopping, это говорит ModelCheckpoint отслеживать mae проверки.\n",
        "- `verbose=1'`: Выводит сообщения при сохранении модели.\n",
        "- `mode='max'`: Должен быть 'min', так как мы хотим сохранить модель, когда val_mae ниже, что указывает на лучшую производительность.\n",
        "- `save_best_only=True'`: Это очень важный параметр. Он гарантирует, что сохраняется только модель с лучшим val_mae, наблюдаемым до сих пор. Это позволяет избежать сохранения потенциально хуже работающих моделей из более поздних эпох.<br><br>\n",
        "\n",
        "**callback_list**\n",
        "\n",
        "- Цель: Это просто объединяет два обратных вызова в список. Этот список будет передан методу fit модели во время обучения, что позволит этим обратным вызовам быть активными и выполнять свою работу."
      ],
      "metadata": {
        "id": "XU0ojG7vFBru"
      }
    },
    {
      "cell_type": "code",
      "source": [
        "# Train the RNN Model\n",
        "\n",
        "rnn_history = rnn_model.fit(X_train, y_train, batch_size = 10,\n",
        "                            validation_data = (X_val, y_val),\n",
        "                            callbacks = callbacks_list, epochs = 100)"
      ],
      "metadata": {
        "id": "HM_40tABM004",
        "colab": {
          "base_uri": "https://localhost:8080/"
        },
        "outputId": "c0a93342-2909-4308-c5f1-519189ee6b6f"
      },
      "execution_count": null,
      "outputs": [
        {
          "output_type": "stream",
          "name": "stdout",
          "text": [
            "Epoch 1/100\n",
            "\u001b[1m1830/1837\u001b[0m \u001b[32m━━━━━━━━━━━━━━━━━━━\u001b[0m\u001b[37m━\u001b[0m \u001b[1m0s\u001b[0m 3ms/step - loss: 0.0225 - mae: 0.1110\n",
            "Epoch 1: val_mae improved from -inf to 0.05011, saving model to Kaliningrad_weather-01-0.050.keras\n",
            "\u001b[1m1837/1837\u001b[0m \u001b[32m━━━━━━━━━━━━━━━━━━━━\u001b[0m\u001b[37m\u001b[0m \u001b[1m9s\u001b[0m 4ms/step - loss: 0.0224 - mae: 0.1109 - val_loss: 0.0044 - val_mae: 0.0501\n",
            "Epoch 2/100\n",
            "\u001b[1m1816/1837\u001b[0m \u001b[32m━━━━━━━━━━━━━━━━━━━\u001b[0m\u001b[37m━\u001b[0m \u001b[1m0s\u001b[0m 2ms/step - loss: 0.0058 - mae: 0.0569\n",
            "Epoch 2: val_mae did not improve from 0.05011\n",
            "\u001b[1m1837/1837\u001b[0m \u001b[32m━━━━━━━━━━━━━━━━━━━━\u001b[0m\u001b[37m\u001b[0m \u001b[1m7s\u001b[0m 2ms/step - loss: 0.0058 - mae: 0.0569 - val_loss: 0.0035 - val_mae: 0.0408\n",
            "Epoch 3/100\n",
            "\u001b[1m1831/1837\u001b[0m \u001b[32m━━━━━━━━━━━━━━━━━━━\u001b[0m\u001b[37m━\u001b[0m \u001b[1m0s\u001b[0m 3ms/step - loss: 0.0045 - mae: 0.0495\n",
            "Epoch 3: val_mae did not improve from 0.05011\n",
            "\u001b[1m1837/1837\u001b[0m \u001b[32m━━━━━━━━━━━━━━━━━━━━\u001b[0m\u001b[37m\u001b[0m \u001b[1m8s\u001b[0m 4ms/step - loss: 0.0045 - mae: 0.0495 - val_loss: 0.0033 - val_mae: 0.0394\n",
            "Epoch 4/100\n",
            "\u001b[1m1818/1837\u001b[0m \u001b[32m━━━━━━━━━━━━━━━━━━━\u001b[0m\u001b[37m━\u001b[0m \u001b[1m0s\u001b[0m 2ms/step - loss: 0.0040 - mae: 0.0466\n",
            "Epoch 4: val_mae did not improve from 0.05011\n",
            "\u001b[1m1837/1837\u001b[0m \u001b[32m━━━━━━━━━━━━━━━━━━━━\u001b[0m\u001b[37m\u001b[0m \u001b[1m4s\u001b[0m 2ms/step - loss: 0.0040 - mae: 0.0466 - val_loss: 0.0018 - val_mae: 0.0307\n",
            "Epoch 5/100\n",
            "\u001b[1m1837/1837\u001b[0m \u001b[32m━━━━━━━━━━━━━━━━━━━━\u001b[0m\u001b[37m\u001b[0m \u001b[1m0s\u001b[0m 2ms/step - loss: 0.0032 - mae: 0.0415\n",
            "Epoch 5: val_mae did not improve from 0.05011\n",
            "\u001b[1m1837/1837\u001b[0m \u001b[32m━━━━━━━━━━━━━━━━━━━━\u001b[0m\u001b[37m\u001b[0m \u001b[1m5s\u001b[0m 2ms/step - loss: 0.0032 - mae: 0.0415 - val_loss: 0.0015 - val_mae: 0.0285\n",
            "Epoch 6/100\n",
            "\u001b[1m1832/1837\u001b[0m \u001b[32m━━━━━━━━━━━━━━━━━━━\u001b[0m\u001b[37m━\u001b[0m \u001b[1m0s\u001b[0m 2ms/step - loss: 0.0031 - mae: 0.0405\n",
            "Epoch 6: val_mae did not improve from 0.05011\n",
            "\u001b[1m1837/1837\u001b[0m \u001b[32m━━━━━━━━━━━━━━━━━━━━\u001b[0m\u001b[37m\u001b[0m \u001b[1m6s\u001b[0m 3ms/step - loss: 0.0031 - mae: 0.0405 - val_loss: 0.0015 - val_mae: 0.0293\n",
            "Epoch 7/100\n",
            "\u001b[1m1823/1837\u001b[0m \u001b[32m━━━━━━━━━━━━━━━━━━━\u001b[0m\u001b[37m━\u001b[0m \u001b[1m0s\u001b[0m 2ms/step - loss: 0.0029 - mae: 0.0390\n",
            "Epoch 7: val_mae did not improve from 0.05011\n",
            "\u001b[1m1837/1837\u001b[0m \u001b[32m━━━━━━━━━━━━━━━━━━━━\u001b[0m\u001b[37m\u001b[0m \u001b[1m4s\u001b[0m 2ms/step - loss: 0.0029 - mae: 0.0390 - val_loss: 0.0014 - val_mae: 0.0281\n",
            "Epoch 8/100\n",
            "\u001b[1m1815/1837\u001b[0m \u001b[32m━━━━━━━━━━━━━━━━━━━\u001b[0m\u001b[37m━\u001b[0m \u001b[1m0s\u001b[0m 2ms/step - loss: 0.0027 - mae: 0.0378\n",
            "Epoch 8: val_mae did not improve from 0.05011\n",
            "\u001b[1m1837/1837\u001b[0m \u001b[32m━━━━━━━━━━━━━━━━━━━━\u001b[0m\u001b[37m\u001b[0m \u001b[1m4s\u001b[0m 2ms/step - loss: 0.0027 - mae: 0.0378 - val_loss: 0.0012 - val_mae: 0.0264\n",
            "Epoch 9/100\n",
            "\u001b[1m1832/1837\u001b[0m \u001b[32m━━━━━━━━━━━━━━━━━━━\u001b[0m\u001b[37m━\u001b[0m \u001b[1m0s\u001b[0m 2ms/step - loss: 0.0027 - mae: 0.0367\n",
            "Epoch 9: val_mae did not improve from 0.05011\n",
            "\u001b[1m1837/1837\u001b[0m \u001b[32m━━━━━━━━━━━━━━━━━━━━\u001b[0m\u001b[37m\u001b[0m \u001b[1m5s\u001b[0m 3ms/step - loss: 0.0027 - mae: 0.0367 - val_loss: 0.0014 - val_mae: 0.0288\n",
            "Epoch 10/100\n",
            "\u001b[1m1813/1837\u001b[0m \u001b[32m━━━━━━━━━━━━━━━━━━━\u001b[0m\u001b[37m━\u001b[0m \u001b[1m0s\u001b[0m 2ms/step - loss: 0.0025 - mae: 0.0353\n",
            "Epoch 10: val_mae did not improve from 0.05011\n",
            "\u001b[1m1837/1837\u001b[0m \u001b[32m━━━━━━━━━━━━━━━━━━━━\u001b[0m\u001b[37m\u001b[0m \u001b[1m5s\u001b[0m 3ms/step - loss: 0.0025 - mae: 0.0354 - val_loss: 0.0012 - val_mae: 0.0268\n",
            "Epoch 11/100\n",
            "\u001b[1m1830/1837\u001b[0m \u001b[32m━━━━━━━━━━━━━━━━━━━\u001b[0m\u001b[37m━\u001b[0m \u001b[1m0s\u001b[0m 2ms/step - loss: 0.0026 - mae: 0.0357\n",
            "Epoch 11: val_mae did not improve from 0.05011\n",
            "\u001b[1m1837/1837\u001b[0m \u001b[32m━━━━━━━━━━━━━━━━━━━━\u001b[0m\u001b[37m\u001b[0m \u001b[1m4s\u001b[0m 2ms/step - loss: 0.0026 - mae: 0.0357 - val_loss: 0.0012 - val_mae: 0.0256\n",
            "Epoch 11: early stopping\n"
          ]
        }
      ]
    },
    {
      "cell_type": "markdown",
      "source": [
        "### MSE, MAE & R2"
      ],
      "metadata": {
        "id": "45yHioFDSs87"
      }
    },
    {
      "cell_type": "code",
      "source": [
        "# Get R2, MSE & MAE scores\n",
        "\n",
        "y_pred = rnn_model.predict(X_test)\n",
        "\n",
        "mse = mean_squared_error(y_test, y_pred)\n",
        "mae = mean_absolute_error(y_test, y_pred)\n",
        "r2 = r2_score(y_test, y_pred)\n",
        "\n",
        "print(f'MSE: {mse:.2f}')\n",
        "print(f'MAE: {mae:.2f}')\n",
        "print(f'R-squared (R^2): {r2:.2f}')"
      ],
      "metadata": {
        "colab": {
          "base_uri": "https://localhost:8080/"
        },
        "id": "KNupYA3ANpol",
        "outputId": "f2128511-36f2-4b7d-f609-3d819ca6f4cc"
      },
      "execution_count": null,
      "outputs": [
        {
          "output_type": "stream",
          "name": "stdout",
          "text": [
            "\u001b[1m123/123\u001b[0m \u001b[32m━━━━━━━━━━━━━━━━━━━━\u001b[0m\u001b[37m\u001b[0m \u001b[1m0s\u001b[0m 2ms/step\n",
            "MSE: 0.00\n",
            "MAE: 0.03\n",
            "R-squared (R^2): 0.94\n"
          ]
        }
      ]
    },
    {
      "cell_type": "markdown",
      "source": [
        "Этот фрагмент кода отвечает за оценку производительности обученной RNN модели (rnn_model) с использованием трех распространенных метрик регрессии: Среднеквадратичной ошибки (MSE), Средней абсолютной ошибки (MAE) и коэффициента детерминации (R^2).\n",
        "\n",
        "1. y_pred = rnn_model.predict(X_test):\n",
        "\n",
        "  - Эта строка использует обученную rnn_model для создания прогнозов на тестовых данных (X_test).\n",
        "  - Прогнозы сохраняются в переменной y_pred.\n",
        "\n",
        "2. mse = mean_squared_error(y_test, y_pred):\n",
        "  - Эта строка вычисляет среднеквадратичную ошибку (MSE) между фактическими значениями (y_test) и предсказанными значениями (y_pred).\n",
        "  - MSE является мерой средней квадратичной разницы между предсказанными и фактическими значениями. Более низкие значения указывают на лучшую производительность модели.\n",
        "\n",
        "3. mae = mean_absolute_error(y_test, y_pred):\n",
        "  - Эта строка вычисляет среднюю абсолютную ошибку (MAE) между фактическими значениями (y_test) и предсказанными значениями (y_pred).\n",
        "  - MAE является мерой средней абсолютной разницы между предсказанными и фактическими значениями. Ее легче интерпретировать, чем MSE, поскольку она выражается в тех же единицах, что и целевая переменная. Более низкие значения указывают на лучшую производительность модели.\n",
        "\n",
        "4. r2 = r2_score(y_test, y_pred):\n",
        "\n",
        "  - Эта строка вычисляет коэффициент детерминации (R^2) между фактическими значениями (y_test) и предсказанными значениями (y_pred).\n",
        "  - R^2 - это статистическая мера, которая представляет долю дисперсии целевой переменной, которая объясняется моделью. Он варьируется от 0 до 1, где более высокие значения указывают на лучшую подгонку модели к данным."
      ],
      "metadata": {
        "id": "2Ee2Uo2NLJSA"
      }
    },
    {
      "cell_type": "markdown",
      "source": [
        "#Oценки моделей на тестовых выборках в виде таблиц/ диаграмм, отображающих метрики качества"
      ],
      "metadata": {
        "id": "R1bHAXGsteML"
      }
    },
    {
      "cell_type": "code",
      "source": [
        "# Visualise the MAE\n",
        "mae = rnn_history.history['mae']\n",
        "val_mae = rnn_history.history['val_mae']\n",
        "epochs = range(1,len(mae)+1)\n",
        "\n",
        "plt.title('MAE')\n",
        "plt.plot(epochs, mae, 'b', label='Training MAE')\n",
        "plt.plot(epochs, val_mae, 'r', label='Validation MAE')\n",
        "plt.xlabel('Epochs')\n",
        "plt.ylabel('MAE')\n",
        "plt.legend()\n",
        "plt.show()"
      ],
      "metadata": {
        "colab": {
          "base_uri": "https://localhost:8080/",
          "height": 472
        },
        "id": "0ecFdWcGTJ0Y",
        "outputId": "df25b4c3-4693-42ec-c3ab-e079bfe183b0"
      },
      "execution_count": null,
      "outputs": [
        {
          "output_type": "display_data",
          "data": {
            "text/plain": [
              "<Figure size 640x480 with 1 Axes>"
            ],
            "image/png": "[encoded data removed]"
          },
          "metadata": {}
        }
      ]
    },
    {
      "cell_type": "markdown",
      "source": [
        "1. `mae = rnn_history.history['mae']`:\n",
        "\n",
        "  - Эта строка извлекает значения MAE на обучающих данных из объекта rnn_history. rnn_history - это объект, который возвращается при обучении модели RNN с помощью `rnn_model.fit()`. Он хранит информацию о процессе обучения, включая MAE для каждой эпохи.\n",
        "  - Часть `history['mae']` обращается именно к значениям MAE на обучающих данных и присваивает их переменной mae.\n",
        "\n",
        "2. `val_mae = rnn_history.history['val_mae']`:\n",
        "\n",
        "  - Эта строка аналогична предыдущей, но извлекает значения MAE на проверочных данных из `rnn_history`.\n",
        "  - MAE на проверочных данных рассчитывается на отдельном наборе данных (проверочный набор), на котором модель не обучалась напрямую. Это помогает оценить, насколько хорошо модель обобщается на невидимые данные.\n",
        "\n",
        "3. `epochs = range(1, len(mae) + 1)`:\n",
        "\n",
        "  - Эта строка создает последовательность чисел, представляющих эпохи процесса обучения.\n",
        "  - `len(mae)` дает общее количество эпох.\n",
        "  - `range(1, len(mae) + 1)` создает последовательность, начинающуюся с 1 и доходящую до общего количества эпох. Эта последовательность будет использоваться в качестве значений оси x на графике."
      ],
      "metadata": {
        "id": "Nrz35bcWMU-y"
      }
    },
    {
      "cell_type": "markdown",
      "source": [
        "### Predicting"
      ],
      "metadata": {
        "id": "-AaYQAp-c3fp"
      }
    },
    {
      "cell_type": "code",
      "source": [
        "# Predicting using test sets\n",
        "\n",
        "y_pred = rnn_model.predict(X_test)\n",
        "y_pred_inv = min_max_scaler.inverse_transform(y_pred)\n",
        "y_test_inv = min_max_scaler.inverse_transform(y_test.reshape(-1,1))\n",
        "\n",
        "print('MAE = ',round(mean_absolute_error(y_true=y_test_inv,y_pred=y_pred_inv),3),' degrees')\n",
        "print('R2-score = ',round(r2_score(y_test_inv,y_pred_inv),3))"
      ],
      "metadata": {
        "colab": {
          "base_uri": "https://localhost:8080/"
        },
        "id": "M83o8vQ3UArq",
        "outputId": "4d0433b5-555d-44a4-d6e6-cb93c26d242b"
      },
      "execution_count": null,
      "outputs": [
        {
          "output_type": "stream",
          "name": "stdout",
          "text": [
            "\u001b[1m123/123\u001b[0m \u001b[32m━━━━━━━━━━━━━━━━━━━━\u001b[0m\u001b[37m\u001b[0m \u001b[1m0s\u001b[0m 1ms/step\n",
            "MAE =  1.59  degrees\n",
            "R2-score =  0.941\n"
          ]
        }
      ]
    },
    {
      "cell_type": "markdown",
      "source": [
        "1. `y_pred = rnn_model.predict(X_test)`:\n",
        "\n",
        "  - Эта строка использует обученную rnn_model для прогнозирования целевой переменной (вероятно, температуры) для тестового набора (X_test).\n",
        "  - Прогнозы сохраняются в переменной y_pred. Эти прогнозы все еще находятся в масштабированном формате (от 0 до 1), потому что модель была обучена на масштабированных данных.\n",
        "\n",
        "2. `y_pred_inv = min_max_scaler.inverse_transform(y_pred)`:\n",
        "\n",
        "  - Эта строка отменяет масштабирование, примененное к прогнозам (`y_pred`), чтобы вернуть их к исходным единицам измерения (например, градусам Цельсия).\n",
        "  - Для выполнения обратного преобразования используется объект `min_max_scaler` (который, использовался ранее для масштабирования данных).\n",
        "  - Результаты, прогнозы в исходном масштабе, сохраняются в `y_pred_inv`.\n",
        "\n",
        "3. `y_test_inv = min_max_scaler.inverse_transform(y_test.reshape(-1,1))`:\n",
        "\n",
        "  - Подобно предыдущей строке, эта строка отменяет масштабирование, примененное к фактическим целевым значениям (`y_test`).\n",
        "  - Перед применением обратного преобразования y_test изменяется с помощью `reshape(-1, 1)`. Это делается для того, чтобы убедиться, что он имеет правильную форму, ожидаемую функцией `inverse_transform` (двумерный массив с одним столбцом).\n",
        "  - Результаты, фактические целевые значения в исходном масштабе, сохраняются в `y_test_inv`.\n",
        "\n",
        "4. `print('MAE = ',round(mean_absolute_error(y_true=y_test_inv,y_pred=y_pred_inv),3),' degrees')`:\n",
        "\n",
        "  - Эта строка вычисляет и выводит среднюю абсолютную ошибку (MAE) между фактическими значениями (`y_test_inv`) и прогнозируемыми значениями (y_pred_inv).\n",
        "  - `mean_absolute_error` - это функция из scikit-learn (`sklearn.metrics`), которая вычисляет MAE.\n",
        "  - `round(..., 3)` округляет значение MAE до трех десятичных знаков для лучшей читаемости.\n",
        "  - `' degrees'` добавляется к выводу, чтобы указать единицу измерения ошибки (вероятно, градусы Цельсия).\n",
        "\n",
        "5. `print('R2-score = ',round(r2_score(y_test_inv,y_pred_inv),3))`:\n",
        "\n",
        "  - Эта строка вычисляет и выводит коэффициент детерминации (R^2) между фактическими значениями (`y_test_inv`) и прогнозируемыми значениями (`y_pred_inv`).\n",
        "  - r2_score - это функция из scikit-learn (`sklearn.metrics`), которая вычисляет коэффициент детерминации.\n",
        "  - `round(..., 3)` округляет коэффициент детерминации до трех десятичных знаков."
      ],
      "metadata": {
        "id": "GWopOu8rNdua"
      }
    },
    {
      "cell_type": "markdown",
      "source": [
        "# Графики обучения для архитектур нейронных сетей"
      ],
      "metadata": {
        "id": "AAasQ72OtYji"
      }
    },
    {
      "cell_type": "code",
      "source": [
        "# Visualise prediction\n",
        "plt.plot(range(1, len(y_test_inv)+1), y_test_inv)\n",
        "plt.plot(range(1,len(y_pred_inv)+1), y_pred_inv)"
      ],
      "metadata": {
        "colab": {
          "base_uri": "https://localhost:8080/",
          "height": 447
        },
        "id": "HkDGKaNPdKpw",
        "outputId": "263e9332-7726-472d-ebcb-fd0f5496a5e4"
      },
      "execution_count": null,
      "outputs": [
        {
          "output_type": "execute_result",
          "data": {
            "text/plain": [
              "[<matplotlib.lines.Line2D at 0x7d69b3d02e00>]"
            ]
          },
          "metadata": {},
          "execution_count": 24
        },
        {
          "output_type": "display_data",
          "data": {
            "text/plain": [
              "<Figure size 640x480 with 1 Axes>"
            ],
            "image/png": "[encoded data removed]"
          },
          "metadata": {}
        }
      ]
    },
    {
      "cell_type": "markdown",
      "source": [
        "## Регрессор (ячейку LSTM)"
      ],
      "metadata": {
        "id": "6GA_uCXod5yv"
      }
    },
    {
      "cell_type": "code",
      "source": [
        "# Build the LSTM model\n",
        "lstm_model = tf.keras.Sequential([\n",
        "    tf.keras.layers.LSTM(10, activation='relu', input_shape=(X_train.shape[1], X_train.shape[2])),\n",
        "    Dropout(0.2),\n",
        "    tf.keras.layers.Dense(1, activation='linear')\n",
        "])"
      ],
      "metadata": {
        "colab": {
          "base_uri": "https://localhost:8080/"
        },
        "id": "PUJ_10dAdcwK",
        "outputId": "2ccf7cc0-f74a-4be2-8d55-8ee991ccd12f"
      },
      "execution_count": null,
      "outputs": [
        {
          "output_type": "stream",
          "name": "stderr",
          "text": [
            "/usr/local/lib/python3.10/dist-packages/keras/src/layers/rnn/rnn.py:204: UserWarning: Do not pass an `input_shape`/`input_dim` argument to a layer. When using Sequential models, prefer using an `Input(shape)` object as the first layer in the model instead.\n",
            "  super().__init__(**kwargs)\n"
          ]
        }
      ]
    },
    {
      "cell_type": "markdown",
      "source": [
        "1. `lstm_model = tf.keras.Sequential(...)`:\n",
        "\n",
        "  - Эта строка создает модель LSTM, используя API `Sequential` в Keras. Это означает, что модель будет обрабатывать слои один за другим в линейной последовательности.\n",
        "  - Вся структура модели определяется внутри квадратных скобок [...].\n",
        "\n",
        "2. `tf.keras.layers.LSTM(10, activation='relu', input_shape=(X_train.shape[1], X_train.shape[2]))`:\n",
        "\n",
        "  - Это ядро модели LSTM - сам слой LSTM.\n",
        "  - 10: Это указывает количество \"единиц\" или \"нейронов\" внутри слоя LSTM. Эти единицы отвечают за изучение закономерностей в последовательных данных.\n",
        "  - `activation='relu'`: Функция `relu` (Rectified Linear Unit - Выпрямленный линейный блок) используется для введения нелинейности в модель, позволяя ей изучать более сложные взаимосвязи в данных.\n",
        "  - `input_shape=(X_train.shape[1], X_train.shape[2])`: Это определяет форму входных данных, которую ожидает слой LSTM. Она берется из размеров ваших обучающих данных (`X_train`). Эта форма ввода означает, что модель получает один временной шаг за раз с определенным количеством признаков (определяется `X_train.shape[2]`, который, представляет исторические точки данных).\n",
        "\n",
        "3. `Dropout(0.2)`:\n",
        "\n",
        "  - Это метод регуляризации для предотвращения переобучения. Во время обучения он случайным образом \"выбрасывает\" (игнорирует) 20% нейронов в предыдущем слое. Это заставляет модель изучать более надежные признаки и лучше обобщать на невидимые данные.\n",
        "\n",
        "4. `tf.keras.layers.Dense(1, activation='linear')`:\n",
        "\n",
        "  - Это полносвязный (Dense) слой, который производит окончательный вывод модели.\n",
        "  - 1: Он имеет один нейрон, который соответствует одному значению, которое предсказывает модель (например, температура на следующем временном шаге).\n",
        "  - `activation='linear'`: Используется линейная функция активации, что означает, что выход представляет собой простую линейную комбинацию входных данных из предыдущего слоя. Это характерно для задач регрессии (предсказания непрерывных значений)."
      ],
      "metadata": {
        "id": "7IqtCf9pTJ_s"
      }
    },
    {
      "cell_type": "code",
      "source": [
        "# Compile the LSTM model\n",
        "\n",
        "lstm_model.compile(loss='mse',\n",
        "                   optimizer='adam',\n",
        "                   metrics=['mae'])"
      ],
      "metadata": {
        "id": "uieSbfoleALt"
      },
      "execution_count": null,
      "outputs": []
    },
    {
      "cell_type": "markdown",
      "source": [
        "1. `lstm_model.compile(...)`: Эта строка инициирует процесс компиляции для `lstm_model` (которая была определена ранее в вашем коде). Компиляция - это как дать модели инструкции о том, как учиться.\n",
        "\n",
        "2. `loss='mse'`:\n",
        "\n",
        "  - `loss` - это важный аргумент, который определяет функцию потерь. Эта функция вычисляет разницу между предсказаниями модели и фактическими целевыми значениями.\n",
        "  - `'mse'` означает Среднеквадратичную ошибку (Mean Squared Error), распространенную функцию потерь для задач регрессии. Она вычисляет среднее квадратов разностей между предсказанными и фактическими значениями. Цель модели во время обучения — минимизировать эту потерю.\n",
        "\n",
        "3. `optimizer='adam'`:\n",
        "\n",
        "  - `optimizer` определяет алгоритм оптимизации, используемый для обновления внутренних весов модели во время обучения. Эти веса — это то, что модель изучает, чтобы делать более точные предсказания.\n",
        "  - `'adam'` относится к оптимизатору Adam, популярному и эффективному алгоритму для обучения нейронных сетей. Он адаптивно корректирует скорость обучения для каждого параметра, что приводит к более быстрой и стабильной сходимости.\n",
        "\n",
        "4. `metrics=['mae']`:\n",
        "\n",
        "  - `metrics` указывает метрики оценки, используемые для мониторинга производительности модели во время обучения и тестирования. В то время как функция потерь направляет процесс оптимизации, метрики обеспечивают более понятную для человека оценку точности модели.\n",
        "  - `'mae'` означает Среднюю абсолютную ошибку (Mean Absolute Error), еще одну распространенную метрику для регрессии. Она вычисляет среднее абсолютных разностей между предсказанными и фактическими значениями. Это дает представление о средней ошибке прогнозирования в тех же единицах, что и целевая переменная."
      ],
      "metadata": {
        "id": "yrC9tXduV1ie"
      }
    },
    {
      "cell_type": "code",
      "source": [
        "# Останавливаем обучение, если валидационная точность не улучшилась в течение 10 эпох\n",
        "early_stop = EarlyStopping(\n",
        "    monitor='val_mae',\n",
        "    patience=10,\n",
        "    mode='max',\n",
        "    verbose=1\n",
        ")\n",
        "\n",
        "# Сохраняем веса модели, если валидационная точность улучшилась\n",
        "checkpoint = ModelCheckpoint(\n",
        "    'Kaliningrad_weather-{epoch:02d}-{val_mae:.3f}.keras',\n",
        "    monitor='val_mae',\n",
        "    verbose=1,\n",
        "    mode='max',\n",
        "    save_best_only=True\n",
        ")\n",
        "\n",
        "# Список колбеков, который будет передан в модель\n",
        "callbacks_list = [early_stop, checkpoint]\n"
      ],
      "metadata": {
        "id": "76bi6NFqeXHs"
      },
      "execution_count": null,
      "outputs": []
    },
    {
      "cell_type": "markdown",
      "source": [
        "**EarlyStopping (Ранняя остановка)**\n",
        "\n",
        "- Цель: Этот обратный вызов предназначен для досрочного прекращения процесса обучения, если производительность модели на данных проверки перестает улучшаться. Это помогает предотвратить переобучение, когда модель становится слишком специализированной для обучающих данных и плохо обобщается на новые, невидимые данные.\n",
        "- `monitor='val_mae'`: Это говорит EarlyStopping отслеживать \"среднюю абсолютную ошибку\" (mae) на наборе данных проверки (`val_mae`). Набор данных проверки – это часть ваших данных, на которых модель не обучается напрямую, используемая для оценки того, насколько хорошо она обобщается.\n",
        "- `patience=10'`: Это означает, что обучение будет продолжаться до 10 эпох (проходов через весь обучающий набор данных), даже если val_mae не улучшается. Это дает модели некоторую свободу действий, чтобы потенциально преодолеть временное плато в производительности.\n",
        "- `mode='max'`: Так как мы отслеживаем `val_mae`, и чем ниже mae, тем лучше, mode должен быть 'min'.\n",
        "- `verbose=1'`: Этот параметр гарантирует, что вы увидите сообщения, выводимые на консоль, когда EarlyStopping предпринимает действия (т.е. когда он останавливает обучение). <br> <br>\n",
        "\n",
        "**ModelCheckpoint (Контрольная точка модели)**\n",
        "\n",
        "- Цель: Этот обратный вызов сохраняет веса модели (выученные параметры) во время обучения. Это позволяет вам загрузить версию модели с наилучшей производительностью позже, даже если процесс обучения прерван или если модель начинает переобучаться.\n",
        "- `'Kaliningrad_weather-{epoch:02d}-{val_mae:.3f}.keras'`: Это определяет шаблон имени файла для сохраненных весов модели.\n",
        "  - Kaliningrad_weather – это префикс для имени.\n",
        "  - {epoch:02d} вставляет текущий номер эпохи (отформатированный с ведущими нулями).\n",
        "  - {val_mae:.3f} вставляет mae проверки (отформатированный до трех десятичных знаков).\n",
        "  - .keras – это расширение файла.\n",
        "- `monitor='val_mae'`: Подобно EarlyStopping, это говорит ModelCheckpoint отслеживать mae проверки.\n",
        "- `verbose=1'`: Выводит сообщения при сохранении модели.\n",
        "- `mode='max'`: Должен быть 'min', так как мы хотим сохранить модель, когда val_mae ниже, что указывает на лучшую производительность.\n",
        "- `save_best_only=True'`: Это очень важный параметр. Он гарантирует, что сохраняется только модель с лучшим val_mae, наблюдаемым до сих пор. Это позволяет избежать сохранения потенциально хуже работающих моделей из более поздних эпох. <br><br>\n",
        "\n",
        "**callback_list (Список обратных вызовов)**\n",
        "\n",
        "- Цель: Это просто объединяет два обратных вызова в список. Этот список будет передан методу fit модели во время обучения, что позволит этим обратным вызовам быть активными и выполнять свою работу."
      ],
      "metadata": {
        "id": "UQVdvvzNXKzI"
      }
    },
    {
      "cell_type": "code",
      "source": [
        "lstm_history = lstm_model.fit(X_train, y_train, batch_size = 10,\n",
        "                            validation_data = (X_val, y_val),\n",
        "                            callbacks = callbacks_list, epochs = 100)"
      ],
      "metadata": {
        "colab": {
          "base_uri": "https://localhost:8080/"
        },
        "id": "KLutGnypeH2L",
        "outputId": "beef0de0-6997-4754-ec06-4815a2d902d8"
      },
      "execution_count": null,
      "outputs": [
        {
          "output_type": "stream",
          "name": "stdout",
          "text": [
            "Epoch 1/100\n",
            "\u001b[1m1813/1837\u001b[0m \u001b[32m━━━━━━━━━━━━━━━━━━━\u001b[0m\u001b[37m━\u001b[0m \u001b[1m0s\u001b[0m 3ms/step - loss: 0.0535 - mae: 0.1621\n",
            "Epoch 1: val_mae improved from -inf to 0.06235, saving model to Kaliningrad_weather-01-0.062.keras\n",
            "\u001b[1m1837/1837\u001b[0m \u001b[32m━━━━━━━━━━━━━━━━━━━━\u001b[0m\u001b[37m\u001b[0m \u001b[1m8s\u001b[0m 3ms/step - loss: 0.0531 - mae: 0.1614 - val_loss: 0.0063 - val_mae: 0.0624\n",
            "Epoch 2/100\n",
            "\u001b[1m1829/1837\u001b[0m \u001b[32m━━━━━━━━━━━━━━━━━━━\u001b[0m\u001b[37m━\u001b[0m \u001b[1m0s\u001b[0m 2ms/step - loss: 0.0079 - mae: 0.0664\n",
            "Epoch 2: val_mae did not improve from 0.06235\n",
            "\u001b[1m1837/1837\u001b[0m \u001b[32m━━━━━━━━━━━━━━━━━━━━\u001b[0m\u001b[37m\u001b[0m \u001b[1m10s\u001b[0m 3ms/step - loss: 0.0079 - mae: 0.0664 - val_loss: 0.0021 - val_mae: 0.0341\n",
            "Epoch 3/100\n",
            "\u001b[1m1822/1837\u001b[0m \u001b[32m━━━━━━━━━━━━━━━━━━━\u001b[0m\u001b[37m━\u001b[0m \u001b[1m0s\u001b[0m 3ms/step - loss: 0.0037 - mae: 0.0442\n",
            "Epoch 3: val_mae did not improve from 0.06235\n",
            "\u001b[1m1837/1837\u001b[0m \u001b[32m━━━━━━━━━━━━━━━━━━━━\u001b[0m\u001b[37m\u001b[0m \u001b[1m6s\u001b[0m 3ms/step - loss: 0.0037 - mae: 0.0442 - val_loss: 0.0014 - val_mae: 0.0288\n",
            "Epoch 4/100\n",
            "\u001b[1m1834/1837\u001b[0m \u001b[32m━━━━━━━━━━━━━━━━━━━\u001b[0m\u001b[37m━\u001b[0m \u001b[1m0s\u001b[0m 3ms/step - loss: 0.0033 - mae: 0.0414\n",
            "Epoch 4: val_mae did not improve from 0.06235\n",
            "\u001b[1m1837/1837\u001b[0m \u001b[32m━━━━━━━━━━━━━━━━━━━━\u001b[0m\u001b[37m\u001b[0m \u001b[1m11s\u001b[0m 3ms/step - loss: 0.0033 - mae: 0.0414 - val_loss: 0.0012 - val_mae: 0.0266\n",
            "Epoch 5/100\n",
            "\u001b[1m1827/1837\u001b[0m \u001b[32m━━━━━━━━━━━━━━━━━━━\u001b[0m\u001b[37m━\u001b[0m \u001b[1m0s\u001b[0m 2ms/step - loss: 0.0034 - mae: 0.0418\n",
            "Epoch 5: val_mae did not improve from 0.06235\n",
            "\u001b[1m1837/1837\u001b[0m \u001b[32m━━━━━━━━━━━━━━━━━━━━\u001b[0m\u001b[37m\u001b[0m \u001b[1m4s\u001b[0m 2ms/step - loss: 0.0034 - mae: 0.0418 - val_loss: 0.0012 - val_mae: 0.0259\n",
            "Epoch 6/100\n",
            "\u001b[1m1824/1837\u001b[0m \u001b[32m━━━━━━━━━━━━━━━━━━━\u001b[0m\u001b[37m━\u001b[0m \u001b[1m0s\u001b[0m 2ms/step - loss: 0.0032 - mae: 0.0409\n",
            "Epoch 6: val_mae did not improve from 0.06235\n",
            "\u001b[1m1837/1837\u001b[0m \u001b[32m━━━━━━━━━━━━━━━━━━━━\u001b[0m\u001b[37m\u001b[0m \u001b[1m5s\u001b[0m 2ms/step - loss: 0.0032 - mae: 0.0409 - val_loss: 0.0011 - val_mae: 0.0256\n",
            "Epoch 7/100\n",
            "\u001b[1m1837/1837\u001b[0m \u001b[32m━━━━━━━━━━━━━━━━━━━━\u001b[0m\u001b[37m\u001b[0m \u001b[1m0s\u001b[0m 3ms/step - loss: 0.0030 - mae: 0.0392\n",
            "Epoch 7: val_mae did not improve from 0.06235\n",
            "\u001b[1m1837/1837\u001b[0m \u001b[32m━━━━━━━━━━━━━━━━━━━━\u001b[0m\u001b[37m\u001b[0m \u001b[1m6s\u001b[0m 3ms/step - loss: 0.0030 - mae: 0.0392 - val_loss: 0.0013 - val_mae: 0.0278\n",
            "Epoch 8/100\n",
            "\u001b[1m1825/1837\u001b[0m \u001b[32m━━━━━━━━━━━━━━━━━━━\u001b[0m\u001b[37m━\u001b[0m \u001b[1m0s\u001b[0m 2ms/step - loss: 0.0030 - mae: 0.0391\n",
            "Epoch 8: val_mae did not improve from 0.06235\n",
            "\u001b[1m1837/1837\u001b[0m \u001b[32m━━━━━━━━━━━━━━━━━━━━\u001b[0m\u001b[37m\u001b[0m \u001b[1m8s\u001b[0m 2ms/step - loss: 0.0030 - mae: 0.0391 - val_loss: 0.0013 - val_mae: 0.0278\n",
            "Epoch 9/100\n",
            "\u001b[1m1811/1837\u001b[0m \u001b[32m━━━━━━━━━━━━━━━━━━━\u001b[0m\u001b[37m━\u001b[0m \u001b[1m0s\u001b[0m 3ms/step - loss: 0.0031 - mae: 0.0402\n",
            "Epoch 9: val_mae did not improve from 0.06235\n",
            "\u001b[1m1837/1837\u001b[0m \u001b[32m━━━━━━━━━━━━━━━━━━━━\u001b[0m\u001b[37m\u001b[0m \u001b[1m6s\u001b[0m 3ms/step - loss: 0.0031 - mae: 0.0402 - val_loss: 0.0011 - val_mae: 0.0250\n",
            "Epoch 10/100\n",
            "\u001b[1m1820/1837\u001b[0m \u001b[32m━━━━━━━━━━━━━━━━━━━\u001b[0m\u001b[37m━\u001b[0m \u001b[1m0s\u001b[0m 2ms/step - loss: 0.0029 - mae: 0.0390\n",
            "Epoch 10: val_mae did not improve from 0.06235\n",
            "\u001b[1m1837/1837\u001b[0m \u001b[32m━━━━━━━━━━━━━━━━━━━━\u001b[0m\u001b[37m\u001b[0m \u001b[1m5s\u001b[0m 3ms/step - loss: 0.0029 - mae: 0.0390 - val_loss: 9.9748e-04 - val_mae: 0.0240\n",
            "Epoch 11/100\n",
            "\u001b[1m1835/1837\u001b[0m \u001b[32m━━━━━━━━━━━━━━━━━━━\u001b[0m\u001b[37m━\u001b[0m \u001b[1m0s\u001b[0m 2ms/step - loss: 0.0030 - mae: 0.0393\n",
            "Epoch 11: val_mae did not improve from 0.06235\n",
            "\u001b[1m1837/1837\u001b[0m \u001b[32m━━━━━━━━━━━━━━━━━━━━\u001b[0m\u001b[37m\u001b[0m \u001b[1m6s\u001b[0m 3ms/step - loss: 0.0030 - mae: 0.0393 - val_loss: 0.0014 - val_mae: 0.0295\n",
            "Epoch 11: early stopping\n"
          ]
        }
      ]
    },
    {
      "cell_type": "markdown",
      "source": [
        "### MSE, MAE & R2"
      ],
      "metadata": {
        "id": "MVfl-jKwuXsU"
      }
    },
    {
      "cell_type": "code",
      "source": [
        "# Get R2, MSE, & MAE scores\n",
        "y_pred = lstm_model.predict(X_test)\n",
        "mse = mean_squared_error(y_test, y_pred)\n",
        "mae = mean_absolute_error(y_test, y_pred)\n",
        "r2 = r2_score(y_test, y_pred)\n",
        "\n",
        "print(f\"MSE: {mse:.2f}\")\n",
        "print(f\"MAE: {mae:.2f}\")\n",
        "print(f\"R-squared (R^2): {r2:.2f}\")"
      ],
      "metadata": {
        "colab": {
          "base_uri": "https://localhost:8080/"
        },
        "id": "jlmOAgDofB3B",
        "outputId": "aa7a5df9-d98f-4485-d214-fef340eab18e"
      },
      "execution_count": null,
      "outputs": [
        {
          "output_type": "stream",
          "name": "stdout",
          "text": [
            "\u001b[1m123/123\u001b[0m \u001b[32m━━━━━━━━━━━━━━━━━━━━\u001b[0m\u001b[37m\u001b[0m \u001b[1m0s\u001b[0m 2ms/step\n",
            "MSE: 0.00\n",
            "MAE: 0.03\n",
            "R-squared (R^2): 0.94\n"
          ]
        }
      ]
    },
    {
      "cell_type": "markdown",
      "source": [
        "1. `y_pred = lstm_model.predict(X_test)`:\n",
        "\n",
        "  - Эта строка использует обученную `lstm_model` для создания прогнозов на тестовых данных (`X_test`).\n",
        "  - Прогнозы сохраняются в переменной `y_pred`.\n",
        "\n",
        "2. `mse = mean_squared_error(y_test, y_pred)`:\n",
        "  - Эта строка вычисляет среднеквадратичную ошибку (MSE) между фактическими значениями (`y_test`) и предсказанными значениями (`y_pred`).\n",
        "  - MSE является мерой средней квадратичной разницы между предсказанными и фактическими значениями. Чем ниже значение, тем лучше производительность модели.\n",
        "\n",
        "3. `mae = mean_absolute_error(y_test, y_pred)`:\n",
        "  - Эта строка вычисляет среднюю абсолютную ошибку (MAE) между фактическими значениями (`y_test`) и предсказанными значениями (`y_pred`).\n",
        "  - MAE является мерой средней абсолютной разницы между предсказанными и фактическими значениями. Ее легче интерпретировать, чем MSE, поскольку она выражается в тех же единицах, что и целевая переменная. Чем ниже значение, тем лучше производительность модели.\n",
        "\n",
        "4. `r2 = r2_score(y_test, y_pred)`:\n",
        "  - Эта строка вычисляет коэффициент детерминации (R^2) между фактическими значениями (`y_test`) и предсказанными значениями (`y_pred`).\n",
        "  - R^2 - это статистическая мера, которая представляет долю дисперсии целевой переменной, которая объясняется моделью. Он варьируется от 0 до 1, где более высокие значения указывают на лучшую подгонку модели к данным."
      ],
      "metadata": {
        "id": "1DaRBCTJZJzw"
      }
    },
    {
      "cell_type": "code",
      "source": [
        "# Visualize the mean absolute error\n",
        "mae = lstm_history.history['mae']\n",
        "val_mae = lstm_history.history['val_mae']\n",
        "epochs = range(1,len(mae)+1)\n",
        "\n",
        "plt.title('Mean Absolute Error')\n",
        "plt.plot(epochs,mae,label='Train')\n",
        "plt.plot(epochs,val_mae,color='red',label='Validation')\n",
        "plt.xlabel('Epochs')\n",
        "plt.ylabel('MAE')\n",
        "plt.legend()\n",
        "plt.show()"
      ],
      "metadata": {
        "colab": {
          "base_uri": "https://localhost:8080/",
          "height": 472
        },
        "id": "P4BY5kIUi-z8",
        "outputId": "23c73fd9-0c01-4437-b3ec-a6c1255d5b4a"
      },
      "execution_count": null,
      "outputs": [
        {
          "output_type": "display_data",
          "data": {
            "text/plain": [
              "<Figure size 640x480 with 1 Axes>"
            ],
            "image/png": "[encoded data removed]"
          },
          "metadata": {}
        }
      ]
    },
    {
      "cell_type": "markdown",
      "source": [
        "### Predicting"
      ],
      "metadata": {
        "id": "yeFaViEDac5v"
      }
    },
    {
      "cell_type": "code",
      "source": [
        "# Predict using test sets\n",
        "\n",
        "y_pred = lstm_model.predict(X_test)\n",
        "y_pred_inv = min_max_scaler.inverse_transform(y_pred)\n",
        "y_test_inv = min_max_scaler.inverse_transform(y_test.reshape(-1,1))\n",
        "\n",
        "print('MAE = ',round(mean_absolute_error(y_true=y_test_inv,y_pred=y_pred_inv),3),' degrees')\n",
        "print('R2-score = ',round(r2_score(y_test_inv,y_pred_inv),3))"
      ],
      "metadata": {
        "id": "8es-sfJbjDO2",
        "colab": {
          "base_uri": "https://localhost:8080/"
        },
        "outputId": "4c076920-ed12-46c0-8646-0d0d494accd9"
      },
      "execution_count": null,
      "outputs": [
        {
          "output_type": "stream",
          "name": "stdout",
          "text": [
            "\u001b[1m123/123\u001b[0m \u001b[32m━━━━━━━━━━━━━━━━━━━━\u001b[0m\u001b[37m\u001b[0m \u001b[1m0s\u001b[0m 1ms/step\n",
            "MAE =  1.788  degrees\n",
            "R2-score =  0.937\n"
          ]
        }
      ]
    },
    {
      "cell_type": "markdown",
      "source": [
        "1. `y_pred = lstm_model.predict(X_test)`:\n",
        "\n",
        "  - Эта строка использует обученную модель `lstm_model` для прогнозирования целевой переменной (вероятно, температуры) для тестового набора данных (`X_test`).\n",
        "  - Прогнозы сохраняются в переменной `y_pred`. Эти прогнозы, все еще находятся в масштабированном формате (от 0 до 1), потому что модель была обучена на масштабированных данных.\n",
        "\n",
        "2. `y_pred_inv = min_max_scaler.inverse_transform(y_pred)`:\n",
        "\n",
        "  - Эта строка отменяет масштабирование, примененное к прогнозам (`y_pred`), чтобы вернуть их к исходным единицам измерения (например, градусам Цельсия).\n",
        "  - Для выполнения обратного преобразования используется объект `min_max_scaler` (который, использовался ранее для масштабирования данных).\n",
        "  - Результаты, прогнозы в исходном масштабе, сохраняются в `y_pred_inv`.\n",
        "\n",
        "3. `y_test_inv = min_max_scaler.inverse_transform(y_test.reshape(-1,1))`:\n",
        "\n",
        "  - Подобно предыдущей строке, эта строка отменяет масштабирование, примененное к фактическим целевым значениям (`y_test`).\n",
        "  - Перед применением обратного преобразования y_test изменяется с помощью `reshape(-1, 1)`. Это делается для того, чтобы убедиться, что он имеет правильную форму, ожидаемую функцией `inverse_transform` (двумерный массив с одним столбцом).\n",
        "  - Результаты, фактические целевые значения в исходном масштабе, сохраняются в `y_test_inv`."
      ],
      "metadata": {
        "id": "vvGUvDHDaYVh"
      }
    },
    {
      "cell_type": "code",
      "source": [
        "plt.plot(range(1,len(y_test_inv)+1), y_test_inv)\n",
        "plt.plot(range(1, len(y_pred_inv)+1), y_pred_inv)"
      ],
      "metadata": {
        "colab": {
          "base_uri": "https://localhost:8080/",
          "height": 447
        },
        "id": "84Ug0WWnbHsu",
        "outputId": "73e69ed3-a166-4228-da51-7a06e0a10f23"
      },
      "execution_count": null,
      "outputs": [
        {
          "output_type": "execute_result",
          "data": {
            "text/plain": [
              "[<matplotlib.lines.Line2D at 0x7d69a9b22320>]"
            ]
          },
          "metadata": {},
          "execution_count": 32
        },
        {
          "output_type": "display_data",
          "data": {
            "text/plain": [
              "<Figure size 640x480 with 1 Axes>"
            ],
            "image/png": "[encoded data removed]"
          },
          "metadata": {}
        }
      ]
    },
    {
      "cell_type": "markdown",
      "source": [
        "## Регрессор (стек двух слое с LSTM)"
      ],
      "metadata": {
        "id": "gRtVs85cuk1-"
      }
    },
    {
      "cell_type": "code",
      "source": [
        "# Build the LSTM model\n",
        "lstm_model2 = tf.keras.Sequential([\n",
        "    tf.keras.layers.LSTM(10, activation='relu', input_shape=(X_train.shape[1], X_train.shape[2]), return_sequences = True),\n",
        "    Dropout(0.2),\n",
        "    tf.keras.layers.LSTM(10, activation='relu'),\n",
        "    Dropout(0.2),\n",
        "    tf.keras.layers.Dense(1, activation='linear')\n",
        "])"
      ],
      "metadata": {
        "id": "lVGokMXzbVFy",
        "colab": {
          "base_uri": "https://localhost:8080/"
        },
        "outputId": "fca82eeb-3a2d-45ce-85af-289a0fff60a3"
      },
      "execution_count": null,
      "outputs": [
        {
          "output_type": "stream",
          "name": "stderr",
          "text": [
            "/usr/local/lib/python3.10/dist-packages/keras/src/layers/rnn/rnn.py:204: UserWarning: Do not pass an `input_shape`/`input_dim` argument to a layer. When using Sequential models, prefer using an `Input(shape)` object as the first layer in the model instead.\n",
            "  super().__init__(**kwargs)\n"
          ]
        }
      ]
    },
    {
      "cell_type": "markdown",
      "source": [
        "1. `lstm_model2 = tf.keras.Sequential(...)`:\n",
        "\n",
        "  - Эта строка создает модель LSTM, используя API Sequential из Keras, популярной библиотеки для глубокого обучения.\n",
        "  - API Sequential позволяет вам определить вашу модель как последовательность слоев, где выход одного слоя становится входом для следующего.\n",
        "\n",
        "2. `tf.keras.layers.LSTM(10, activation='relu', input_shape=(X_train.shape[1], X_train.shape[2]), return_sequences = True)`:\n",
        "\n",
        "  - Это первый слой модели LSTM, основной слой LSTM.\n",
        "  - 10: Это указывает количество \"единиц\" или \"ячеек памяти\" внутри слоя LSTM. Эти единицы отвечают за изучение и запоминание закономерностей в данных.\n",
        "  - `activation='relu'`: Функция активации relu (Rectified Linear Unit - выпрямленный линейный блок) вводит нелинейность в модель, что позволяет ей изучать более сложные закономерности в данных.\n",
        "  - `input_shape=(X_train.shape[1], X_train.shape[2])`: Это определяет форму входных данных, которую ожидает слой LSTM. Она берется из размеров ваших обучающих данных (X_train). Форма ввода указывает, что модель получает один временной шаг за раз с определенным количеством признаков (определяется X_train.shape[2], который представляет исторические точки данных).\n",
        "  - `return_sequences = True`: Этот аргумент важен при укладке слоев LSTM друг на друга. Устанавливая его в True, этот слой LSTM будет выводить последовательность скрытых состояний, а не только конечное скрытое состояние. Это необходимо для того, чтобы следующий слой LSTM мог обрабатывать последовательную информацию.\n",
        "\n",
        "3. `Dropout(0.2)`:\n",
        "\n",
        "  - Это метод регуляризации, используемый для предотвращения переобучения. Во время обучения он случайным образом \"выбрасывает\" (игнорирует) 20% нейронов в предыдущем слое. Это заставляет модель изучать более надежные признаки и лучше обобщать на невидимые данные.\n",
        "\n",
        "4. `tf.keras.layers.LSTM(10, activation='relu')`:\n",
        "\n",
        "  - Это второй слой LSTM, который получает на вход последовательность скрытых состояний от первого слоя LSTM.\n",
        "  - Он имеет такое же количество единиц (10) и функцию активации (ReLU), как и первый слой.\n",
        "  - Поскольку `return_sequences` был установлен в True в первом слое LSTM, этот второй слой LSTM может обрабатывать последовательную информацию, передаваемую ему.\n",
        "\n",
        "5. `Dropout(0.2)`:\n",
        "\n",
        "- Еще один слой dropout применяется после второго слоя LSTM, опять же для предотвращения переобучения.\n",
        "\n",
        "6. `tf.keras.layers.Dense(1, activation='linear')`:\n",
        "\n",
        "  - Это полносвязный (Dense) слой, который производит окончательный вывод модели.\n",
        "  - 1: Он имеет один нейрон, который соответствует одному значению, которое предсказывает модель (например, температура на следующем временном шаге).\n",
        "  - `activation='linear'`: Используется линейная функция активации, что означает, что выход представляет собой простую линейную комбинацию входных данных из предыдущего слоя. Это характерно для задач регрессии (предсказания непрерывных значений)."
      ],
      "metadata": {
        "id": "Liulm9BYk_9b"
      }
    },
    {
      "cell_type": "code",
      "source": [
        "# Compile the LSTM model\n",
        "\n",
        "lstm_model2.compile(loss='mse',\n",
        "                    optimizer='adam',\n",
        "                    metrics=['mae'])"
      ],
      "metadata": {
        "id": "K4GU2omZuvYu"
      },
      "execution_count": null,
      "outputs": []
    },
    {
      "cell_type": "markdown",
      "source": [
        "1. `lstm_model2.compile(...)`: Эта строка инициирует процесс компиляции для lstm_model2, которая была определена ранее в коде. Компиляция - это как дать модели инструкции о том, как учиться.\n",
        "\n",
        "2. `loss='mse'`:\n",
        "\n",
        "  - `loss` - это важный аргумент, который определяет функцию потерь. Эта функция вычисляет разницу между предсказаниями модели и фактическими целевыми значениями.\n",
        "  - `'mse'` означает Среднеквадратичную ошибку (Mean Squared Error), распространенную функцию потерь для задач регрессии. Она вычисляет среднее квадратов разностей между предсказанными и фактическими значениями. Цель модели во время обучения — минимизировать эту потерю.\n",
        "\n",
        "3. `optimizer='adam'`:\n",
        "\n",
        "  - `optimizer` определяет алгоритм оптимизации, используемый для обновления внутренних весов модели во время обучения. Эти веса — это то, что модель изучает, чтобы делать более точные предсказания.\n",
        "  - `'adam'` относится к оптимизатору Adam, популярному и эффективному алгоритму для обучения нейронных сетей. Он адаптивно корректирует скорость обучения для каждого параметра, что приводит к более быстрой и стабильной сходимости.\n",
        "\n",
        "4. `metrics=['mae']`:\n",
        "\n",
        "  - `metrics` указывает метрики оценки, используемые для мониторинга производительности модели во время обучения и тестирования. В то время как функция потерь направляет процесс оптимизации, метрики обеспечивают более понятную для человека оценку точности модели.\n",
        "  - `'mae'` означает Среднюю абсолютную ошибку (Mean Absolute Error), еще одну распространенную метрику для регрессии. Она вычисляет среднее абсолютных разностей между предсказанными и фактическими значениями. Это дает представление о средней ошибке прогнозирования в тех же единицах, что и целевая переменная."
      ],
      "metadata": {
        "id": "nZWtNEG4m1VR"
      }
    },
    {
      "cell_type": "code",
      "source": [
        "# Train the LSTM model\n",
        "\n",
        "lstm_history2 = lstm_model2.fit(\n",
        "    X_train, y_train,\n",
        "    epochs=20,\n",
        "    batch_size=20,\n",
        "    validation_data=(X_val, y_val)\n",
        ")"
      ],
      "metadata": {
        "colab": {
          "base_uri": "https://localhost:8080/"
        },
        "id": "k6JgprUovCSi",
        "outputId": "afaf53b0-3ef8-48af-a3e3-19c9b111634f"
      },
      "execution_count": null,
      "outputs": [
        {
          "output_type": "stream",
          "name": "stdout",
          "text": [
            "Epoch 1/20\n",
            "\u001b[1m919/919\u001b[0m \u001b[32m━━━━━━━━━━━━━━━━━━━━\u001b[0m\u001b[37m\u001b[0m \u001b[1m8s\u001b[0m 6ms/step - loss: 0.1008 - mae: 0.2452 - val_loss: 0.0078 - val_mae: 0.0688\n",
            "Epoch 2/20\n",
            "\u001b[1m919/919\u001b[0m \u001b[32m━━━━━━━━━━━━━━━━━━━━\u001b[0m\u001b[37m\u001b[0m \u001b[1m3s\u001b[0m 4ms/step - loss: 0.0134 - mae: 0.0892 - val_loss: 0.0066 - val_mae: 0.0647\n",
            "Epoch 3/20\n",
            "\u001b[1m919/919\u001b[0m \u001b[32m━━━━━━━━━━━━━━━━━━━━\u001b[0m\u001b[37m\u001b[0m \u001b[1m5s\u001b[0m 3ms/step - loss: 0.0087 - mae: 0.0709 - val_loss: 0.0047 - val_mae: 0.0522\n",
            "Epoch 4/20\n",
            "\u001b[1m919/919\u001b[0m \u001b[32m━━━━━━━━━━━━━━━━━━━━\u001b[0m\u001b[37m\u001b[0m \u001b[1m7s\u001b[0m 6ms/step - loss: 0.0066 - mae: 0.0610 - val_loss: 0.0057 - val_mae: 0.0582\n",
            "Epoch 5/20\n",
            "\u001b[1m919/919\u001b[0m \u001b[32m━━━━━━━━━━━━━━━━━━━━\u001b[0m\u001b[37m\u001b[0m \u001b[1m3s\u001b[0m 3ms/step - loss: 0.0061 - mae: 0.0578 - val_loss: 0.0052 - val_mae: 0.0550\n",
            "Epoch 6/20\n",
            "\u001b[1m919/919\u001b[0m \u001b[32m━━━━━━━━━━━━━━━━━━━━\u001b[0m\u001b[37m\u001b[0m \u001b[1m3s\u001b[0m 4ms/step - loss: 0.0056 - mae: 0.0549 - val_loss: 0.0047 - val_mae: 0.0516\n",
            "Epoch 7/20\n",
            "\u001b[1m919/919\u001b[0m \u001b[32m━━━━━━━━━━━━━━━━━━━━\u001b[0m\u001b[37m\u001b[0m \u001b[1m3s\u001b[0m 4ms/step - loss: 0.0054 - mae: 0.0535 - val_loss: 0.0046 - val_mae: 0.0511\n",
            "Epoch 8/20\n",
            "\u001b[1m919/919\u001b[0m \u001b[32m━━━━━━━━━━━━━━━━━━━━\u001b[0m\u001b[37m\u001b[0m \u001b[1m5s\u001b[0m 5ms/step - loss: 0.0053 - mae: 0.0527 - val_loss: 0.0053 - val_mae: 0.0564\n",
            "Epoch 9/20\n",
            "\u001b[1m919/919\u001b[0m \u001b[32m━━━━━━━━━━━━━━━━━━━━\u001b[0m\u001b[37m\u001b[0m \u001b[1m3s\u001b[0m 3ms/step - loss: 0.0051 - mae: 0.0518 - val_loss: 0.0057 - val_mae: 0.0593\n",
            "Epoch 10/20\n",
            "\u001b[1m919/919\u001b[0m \u001b[32m━━━━━━━━━━━━━━━━━━━━\u001b[0m\u001b[37m\u001b[0m \u001b[1m5s\u001b[0m 4ms/step - loss: 0.0049 - mae: 0.0506 - val_loss: 0.0056 - val_mae: 0.0579\n",
            "Epoch 11/20\n",
            "\u001b[1m919/919\u001b[0m \u001b[32m━━━━━━━━━━━━━━━━━━━━\u001b[0m\u001b[37m\u001b[0m \u001b[1m5s\u001b[0m 5ms/step - loss: 0.0048 - mae: 0.0497 - val_loss: 0.0052 - val_mae: 0.0556\n",
            "Epoch 12/20\n",
            "\u001b[1m919/919\u001b[0m \u001b[32m━━━━━━━━━━━━━━━━━━━━\u001b[0m\u001b[37m\u001b[0m \u001b[1m3s\u001b[0m 4ms/step - loss: 0.0050 - mae: 0.0500 - val_loss: 0.0063 - val_mae: 0.0643\n",
            "Epoch 13/20\n",
            "\u001b[1m919/919\u001b[0m \u001b[32m━━━━━━━━━━━━━━━━━━━━\u001b[0m\u001b[37m\u001b[0m \u001b[1m5s\u001b[0m 4ms/step - loss: 0.0045 - mae: 0.0482 - val_loss: 0.0059 - val_mae: 0.0613\n",
            "Epoch 14/20\n",
            "\u001b[1m919/919\u001b[0m \u001b[32m━━━━━━━━━━━━━━━━━━━━\u001b[0m\u001b[37m\u001b[0m \u001b[1m7s\u001b[0m 6ms/step - loss: 0.0049 - mae: 0.0502 - val_loss: 0.0059 - val_mae: 0.0611\n",
            "Epoch 15/20\n",
            "\u001b[1m919/919\u001b[0m \u001b[32m━━━━━━━━━━━━━━━━━━━━\u001b[0m\u001b[37m\u001b[0m \u001b[1m3s\u001b[0m 3ms/step - loss: 0.0046 - mae: 0.0487 - val_loss: 0.0058 - val_mae: 0.0609\n",
            "Epoch 16/20\n",
            "\u001b[1m919/919\u001b[0m \u001b[32m━━━━━━━━━━━━━━━━━━━━\u001b[0m\u001b[37m\u001b[0m \u001b[1m5s\u001b[0m 3ms/step - loss: 0.0047 - mae: 0.0489 - val_loss: 0.0059 - val_mae: 0.0612\n",
            "Epoch 17/20\n",
            "\u001b[1m919/919\u001b[0m \u001b[32m━━━━━━━━━━━━━━━━━━━━\u001b[0m\u001b[37m\u001b[0m \u001b[1m7s\u001b[0m 5ms/step - loss: 0.0048 - mae: 0.0487 - val_loss: 0.0071 - val_mae: 0.0702\n",
            "Epoch 18/20\n",
            "\u001b[1m919/919\u001b[0m \u001b[32m━━━━━━━━━━━━━━━━━━━━\u001b[0m\u001b[37m\u001b[0m \u001b[1m3s\u001b[0m 3ms/step - loss: 0.0047 - mae: 0.0488 - val_loss: 0.0068 - val_mae: 0.0675\n",
            "Epoch 19/20\n",
            "\u001b[1m919/919\u001b[0m \u001b[32m━━━━━━━━━━━━━━━━━━━━\u001b[0m\u001b[37m\u001b[0m \u001b[1m3s\u001b[0m 3ms/step - loss: 0.0045 - mae: 0.0475 - val_loss: 0.0066 - val_mae: 0.0666\n",
            "Epoch 20/20\n",
            "\u001b[1m919/919\u001b[0m \u001b[32m━━━━━━━━━━━━━━━━━━━━\u001b[0m\u001b[37m\u001b[0m \u001b[1m4s\u001b[0m 4ms/step - loss: 0.0044 - mae: 0.0472 - val_loss: 0.0059 - val_mae: 0.0620\n"
          ]
        }
      ]
    },
    {
      "cell_type": "markdown",
      "source": [
        "### MSE, MAE & R2"
      ],
      "metadata": {
        "id": "_mzLNwi2vf8P"
      }
    },
    {
      "cell_type": "code",
      "source": [
        "# Get R2, MSE & MAE scores\n",
        "y_pred = lstm_model2.predict(X_test)\n",
        "mse = mean_squared_error(y_test, y_pred)\n",
        "mae = mean_absolute_error(y_test, y_pred)\n",
        "r2 = r2_score(y_test, y_pred)\n",
        "\n",
        "print(f'MSE: {mse:.2f}')\n",
        "print(f'MAE: {mae:.2f}')\n",
        "print(f'R-squared (R^2): {r2:.2f}')"
      ],
      "metadata": {
        "id": "KzOADrhAvXbT",
        "colab": {
          "base_uri": "https://localhost:8080/"
        },
        "outputId": "046a7113-79ae-4e95-9353-9c27f4f865a4"
      },
      "execution_count": null,
      "outputs": [
        {
          "output_type": "stream",
          "name": "stdout",
          "text": [
            "\u001b[1m123/123\u001b[0m \u001b[32m━━━━━━━━━━━━━━━━━━━━\u001b[0m\u001b[37m\u001b[0m \u001b[1m1s\u001b[0m 6ms/step\n",
            "MSE: 0.01\n",
            "MAE: 0.06\n",
            "R-squared (R^2): 0.67\n"
          ]
        }
      ]
    },
    {
      "cell_type": "markdown",
      "source": [
        "1. `y_pred = lstm_model2.predict(X_test)`:\n",
        "\n",
        "  - Эта строка использует обученную LSTM-модель (`lstm_model2`) для создания прогнозов на тестовых данных (`X_test`).\n",
        "  - Прогнозы сохраняются в переменной y_pred.\n",
        "\n",
        "2. `mse = mean_squared_error(y_test, y_pred)`:\n",
        "\n",
        "  - Эта строка вычисляет среднеквадратичную ошибку (MSE) между фактическими значениями (`y_test`) и прогнозируемыми значениями (`y_pred`).\n",
        "  - MSE измеряет среднее квадратичное различие между прогнозируемыми и фактическими значениями. Более низкие значения MSE указывают на лучшую производительность модели.\n",
        "\n",
        "3. `mae = mean_absolute_error(y_test, y_pred)`:\n",
        "\n",
        "  - Эта строка вычисляет среднюю абсолютную ошибку (MAE) между фактическими значениями (`y_test`) и прогнозируемыми значениями (`y_pred`).\n",
        "  - MAE измеряет среднее абсолютное различие между прогнозируемыми и фактическими значениями. Ее легче интерпретировать, чем MSE, поскольку она выражается в тех же единицах, что и целевая переменная. Более низкие значения MAE указывают на лучшую производительность модели.\n",
        "\n",
        "4. `r2 = r2_score(y_test, y_pred)`:\n",
        "\n",
        "  - Эта строка вычисляет коэффициент детерминации (R^2) между фактическими значениями (`y_test`) и прогнозируемыми значениями (`y_pred`).\n",
        "  - R^2 - это статистическая мера, которая представляет долю дисперсии целевой переменной, которая объясняется моделью. Он варьируется от 0 до 1, где более высокие значения указывают на лучшую подгонку модели к данным."
      ],
      "metadata": {
        "id": "lZ4inswvnqHx"
      }
    },
    {
      "cell_type": "code",
      "source": [
        "# Visualize the mean absolute error (MAE)\n",
        "mae = lstm_history2.history['mae']\n",
        "val_mae = lstm_history2.history['val_mae']\n",
        "epochs = range(1, len(mae)+1)\n",
        "\n",
        "plt.title('Mean Absolute Error')\n",
        "plt.plot(epochs, mae, label='Train')\n",
        "plt.plot(epochs, val_mae, color='red', label='Validation')\n",
        "plt.xlabel('Epochs')\n",
        "plt.ylabel('MAE')\n",
        "plt.legend()"
      ],
      "metadata": {
        "id": "I4WKoCccwVPZ",
        "colab": {
          "base_uri": "https://localhost:8080/",
          "height": 489
        },
        "outputId": "addf93ea-cf74-4abc-e012-adc12dd0fe81"
      },
      "execution_count": null,
      "outputs": [
        {
          "output_type": "execute_result",
          "data": {
            "text/plain": [
              "<matplotlib.legend.Legend at 0x7d69a9b922c0>"
            ]
          },
          "metadata": {},
          "execution_count": 37
        },
        {
          "output_type": "display_data",
          "data": {
            "text/plain": [
              "<Figure size 640x480 with 1 Axes>"
            ],
            "image/png": "[encoded data removed]"
          },
          "metadata": {}
        }
      ]
    },
    {
      "cell_type": "markdown",
      "source": [
        "### Predicting"
      ],
      "metadata": {
        "id": "ojC7gnvPzR_3"
      }
    },
    {
      "cell_type": "code",
      "source": [
        "# Predict using test sets\n",
        "\n",
        "y_pred = lstm_model2.predict(X_test)\n",
        "y_pred_inv = min_max_scaler.inverse_transform(y_pred)\n",
        "y_test_inv = min_max_scaler.inverse_transform(y_test.reshape(-1,1))\n",
        "\n",
        "print('MAE = ',round(mean_absolute_error(y_true=y_test_inv,y_pred=y_pred_inv),3),' degrees')\n",
        "print('R2-score = ',round(r2_score(y_test_inv,y_pred_inv),3))"
      ],
      "metadata": {
        "colab": {
          "base_uri": "https://localhost:8080/"
        },
        "id": "3pz1PPf3zPiN",
        "outputId": "1df5bf72-dff7-48f6-9977-42842a74d452"
      },
      "execution_count": null,
      "outputs": [
        {
          "output_type": "stream",
          "name": "stdout",
          "text": [
            "\u001b[1m123/123\u001b[0m \u001b[32m━━━━━━━━━━━━━━━━━━━━\u001b[0m\u001b[37m\u001b[0m \u001b[1m0s\u001b[0m 1ms/step\n",
            "MAE =  3.797  degrees\n",
            "R2-score =  0.666\n"
          ]
        }
      ]
    },
    {
      "cell_type": "markdown",
      "source": [
        "1. `y_pred = lstm_model2.predict(X_test)`: Эта строка использует обученную модель LSTM (`lstm_model2`) для создания прогнозов на тестовом наборе данных (`X_test`). Прогнозы сохраняются в переменной `y_pred`. Эти прогнозы, находятся в масштабированном формате (например, между 0 и 1), если модель была обучена на масштабированных данных.\n",
        "\n",
        "2. `y_pred_inv = min_max_scaler.inverse_transform(y_pred)`: Эта строка отменяет масштабирование, примененное к прогнозам (`y_pred`), чтобы вернуть их к исходным единицам измерения (например, градусам Цельсия). Она использует объект `min_max_scaler` (который, использовался ранее для масштабирования данных) для выполнения обратного преобразования. Результаты, прогнозы в исходном масштабе, сохраняются в `y_pred_inv`.\n",
        "\n",
        "3. `y_test_inv = min_max_scaler.inverse_transform(y_test.reshape(-1,1))`: Аналогично предыдущей строке, эта строка отменяет масштабирование, примененное к фактическим целевым значениям (`y_test`). Перед применением обратного преобразования `y_test` изменяется с помощью `reshape(-1, 1)`. Это делается для того, чтобы убедиться, что он имеет правильную форму, ожидаемую функцией `inverse_transform` (двумерный массив с одним столбцом). Результаты, фактические целевые значения в исходном масштабе, сохраняются в `y_test_inv`."
      ],
      "metadata": {
        "id": "gv5AdIcgod6A"
      }
    },
    {
      "cell_type": "code",
      "source": [
        "# Visualize prediction\n",
        "\n",
        "plt.plot(range(1, len(y_test_inv)+1), y_test_inv)\n",
        "plt.plot(range(1, len(y_pred_inv)+1), y_pred_inv)"
      ],
      "metadata": {
        "colab": {
          "base_uri": "https://localhost:8080/",
          "height": 447
        },
        "id": "bw4YqajfzfF1",
        "outputId": "4debf78a-9083-4444-9ccb-e713f6ac89a9"
      },
      "execution_count": null,
      "outputs": [
        {
          "output_type": "execute_result",
          "data": {
            "text/plain": [
              "[<matplotlib.lines.Line2D at 0x7d69a14f0d90>]"
            ]
          },
          "metadata": {},
          "execution_count": 39
        },
        {
          "output_type": "display_data",
          "data": {
            "text/plain": [
              "<Figure size 640x480 with 1 Axes>"
            ],
            "image/png": "[encoded data removed]"
          },
          "metadata": {}
        }
      ]
    },
    {
      "cell_type": "markdown",
      "source": [
        "##Вывод\n",
        "\n",
        "Этот код реализует две модели LSTM для прогнозирования временных рядов, в частности, для прогнозирования температуры. Первая модель использует обратные вызовы EarlyStopping и ModelCheckpoint для оптимизации обучения, предотвращения переобучения и сохранения весов модели с наилучшей производительностью. Обе модели оцениваются с использованием метрик MSE, MAE и R-квадрат, а их производительность визуализируется. Вторая модель представляет собой сложенную архитектуру LSTM с двумя слоями LSTM и регуляризацией dropout для улучшения обобщения. Код также включает этапы предварительной обработки данных, такие как масштабирование MinMax, и этапы постобработки для обратного преобразования прогнозов для правильной интерпретации. Финальные визуализации сравнивают прогнозируемые и фактические температуры, обеспечивая наглядную оценку производительности модели. Результаты указывают на эффективность архитектуры LSTM для задачи прогнозирования температуры. Сложная модель LSTM (lstm_model2) демонстрирует потенциал, но дальнейшая настройка гиперпараметров и, возможно, большее количество данных могут еще больше повысить ее точность."
      ],
      "metadata": {
        "id": "4aPIrqR5u8UH"
      }
    },
    {
      "cell_type": "code",
      "source": [],
      "metadata": {
        "id": "2tn11_rlvnrI"
      },
      "execution_count": null,
      "outputs": []
    }
  ]
}